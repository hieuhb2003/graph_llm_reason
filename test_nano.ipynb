{
 "cells": [
  {
   "cell_type": "code",
   "execution_count": null,
   "metadata": {},
   "outputs": [],
   "source": [
    "import pyarrow.parquet as pa\n",
    "import pandas as pd\n",
    "import os \n",
    "table  = pa.read_table(\"/home/vulamanh/Documents/GRAPHRAG_DATN/src/data/synthetic/cross_queries.parquet\")\n",
    "df = table.to_pandas()\n",
    "\n",
    "\n",
    "def remove_if_exist(file):\n",
    "    if os.path.exists(file):\n",
    "        os.remove(file)"
   ]
  },
  {
   "cell_type": "code",
   "execution_count": 2,
   "metadata": {},
   "outputs": [],
   "source": [
    "from tqdm import tqdm\n",
    "def get_text_chunks(df: pd.DataFrame, n_queries = 20):\n",
    "    # Lấy hết câu hỏi khác nhau\n",
    "    all_distinct_queries = df[\"query\"].unique()\n",
    "\n",
    "    # Obtain the small subset of questions (20 first questions)\n",
    "    small_queries_list = all_distinct_queries[:n_queries]\n",
    "\n",
    "    # Take the all chunks related to that subset of questions\n",
    "    df_small = df[df[\"query\"].isin(small_queries_list)]\n",
    "    list_contexts = df_small[\"pos\"].to_list()\n",
    "    list_contexts = list(set([a[0] for a in list_contexts]))\n",
    "\n",
    "    #Build the dictionary with key is the query and value is list of indexes of relevant chunks\n",
    "    true_pos = {}\n",
    "    map_contexts_to_id = {contexts: i for i, contexts in enumerate(list_contexts)}\n",
    "    for query in tqdm(small_queries_list):\n",
    "        pos_list = []\n",
    "        df_query_specific = df[df[\"query\"] == query]\n",
    "        df_query_specific.reset_index(inplace = True)\n",
    "        for i in range(len(df_query_specific)):\n",
    "            pos_list.append(map_contexts_to_id[df_query_specific[\"pos\"][i][0]])\n",
    "        true_pos[query] = list(set(pos_list))\n",
    "\n",
    "    return list_contexts, true_pos"
   ]
  },
  {
   "cell_type": "code",
   "execution_count": 3,
   "metadata": {},
   "outputs": [
    {
     "name": "stderr",
     "output_type": "stream",
     "text": [
      "100%|██████████| 50/50 [00:06<00:00,  7.51it/s]\n"
     ]
    }
   ],
   "source": [
    "list_context, true_pos = get_text_chunks(df, n_queries=50)"
   ]
  },
  {
   "cell_type": "code",
   "execution_count": null,
   "metadata": {},
   "outputs": [],
   "source": [
    "import nest_asyncio\n",
    "from nano_graphrag import GraphRAG, QueryParam\n",
    "import json\n",
    "import shutil\n",
    "import numpy as np\n",
    "from nano_graphrag import GraphRAG, QueryParam\n",
    "from nano_graphrag._utils import wrap_embedding_func_with_attrs\n",
    "import os\n",
    "import pandas as pd\n",
    "nest_asyncio.apply()\n",
    "WORKING_DIR = \"tests_80B\"\n",
    "\n",
    "remove_if_exist(f\"{WORKING_DIR}/milvus_lite.db\")\n",
    "remove_if_exist(f\"{WORKING_DIR}/kv_store_full_docs.json\")\n",
    "remove_if_exist(f\"{WORKING_DIR}/kv_store_text_chunks.json\")\n",
    "remove_if_exist(f\"{WORKING_DIR}/kv_store_community_reports.json\")\n",
    "remove_if_exist(f\"{WORKING_DIR}/graph_chunk_entity_relation.graphml\")\n",
    "rag = GraphRAG(\n",
    "        working_dir=WORKING_DIR,\n",
    "        enable_naive_rag=True,\n",
    "        enable_local= True\n",
    ")\n"
   ]
  },
  {
   "cell_type": "code",
   "execution_count": 5,
   "metadata": {},
   "outputs": [],
   "source": [
    "# rag.insert(list_context)"
   ]
  },
  {
   "cell_type": "code",
   "execution_count": null,
   "metadata": {},
   "outputs": [
    {
     "name": "stderr",
     "output_type": "stream",
     "text": [
      "/home/vulamanh/miniconda3/envs/graphrag_env/lib/python3.12/site-packages/tqdm/auto.py:21: TqdmWarning: IProgress not found. Please update jupyter and ipywidgets. See https://ipywidgets.readthedocs.io/en/stable/user_install.html\n",
      "  from .autonotebook import tqdm as notebook_tqdm\n",
      "INFO:nano-graphrag:Load KV full_docs with 40 data\n",
      "INFO:nano-graphrag:Load KV text_chunks with 40 data\n",
      "INFO:nano-graphrag:Load KV llm_response_cache with 323 data\n",
      "INFO:nano-graphrag:Load KV community_reports with 0 data\n",
      "INFO:nano-graphrag:Loaded graph from tests/graph_chunk_entity_relation.graphml with 471 nodes, 343 edges\n",
      "INFO:nano-vectordb:Load (470, 1024) data\n",
      "INFO:nano-vectordb:Init {'embedding_dim': 1024, 'metric': 'cosine', 'storage_file': 'tests/vdb_entities.json'} 470 data\n",
      "INFO:nano-vectordb:Load (343, 1024) data\n",
      "INFO:nano-vectordb:Init {'embedding_dim': 1024, 'metric': 'cosine', 'storage_file': 'tests/vdb_edges.json'} 343 data\n",
      "INFO:nano-vectordb:Load (40, 1024) data\n",
      "INFO:nano-vectordb:Init {'embedding_dim': 1024, 'metric': 'cosine', 'storage_file': 'tests/vdb_chunks.json'} 40 data\n"
     ]
    }
   ],
   "source": [
    "# import nest_asyncio\n",
    "# from nano_graphrag import GraphRAG, QueryParam\n",
    "# import json\n",
    "# import shutil\n",
    "# import numpy as np\n",
    "# from nano_graphrag import GraphRAG, QueryParam\n",
    "# from nano_graphrag._utils import wrap_embedding_func_with_attrs\n",
    "# import os\n",
    "# import pandas as pd\n",
    "# nest_asyncio.apply()\n",
    "# WORKING_DIR = \"tests\"\n",
    "# rag = GraphRAG(\n",
    "#         working_dir=WORKING_DIR,\n",
    "#         enable_naive_rag=True,\n",
    "#         enable_local= True\n",
    "# )"
   ]
  },
  {
   "cell_type": "code",
   "execution_count": 7,
   "metadata": {},
   "outputs": [],
   "source": [
    "# import networkx as nx\n",
    "# from pyvis.network import Network\n",
    "\n",
    "# # Load GraphML file\n",
    "# graphml_file = \"/home/vulamanh/Documents/GRAPHRAG_DATN/src/tests/graph_chunk_entity_relation.graphml\"\n",
    "# G = nx.read_graphml(graphml_file)\n",
    "\n",
    "# # Initialize PyVis network\n",
    "# net = Network(height=\"100vh\", width=\"100vw\", bgcolor=\"black\", font_color=\"white\", notebook = True)\n",
    "\n",
    "# # Convert NetworkX graph to PyVis\n",
    "# net.from_nx(G)\n",
    "\n",
    "# # Improve Layout\n",
    "# net.force_atlas_2based()\n",
    "# net.toggle_physics(True)\n",
    "\n",
    "# # Save and show graph\n",
    "# net.show(\"graph.html\")\n",
    "\n",
    "# import webbrowser\n",
    "# webbrowser.open('graph.html')"
   ]
  },
  {
   "cell_type": "code",
   "execution_count": 8,
   "metadata": {},
   "outputs": [],
   "source": [
    "list_queries = list(true_pos.keys())\n",
    "from tqdm import tqdm"
   ]
  },
  {
   "cell_type": "code",
   "execution_count": 9,
   "metadata": {},
   "outputs": [
    {
     "name": "stderr",
     "output_type": "stream",
     "text": [
      "  0%|          | 0/50 [00:00<?, ?it/s]"
     ]
    },
    {
     "name": "stdout",
     "output_type": "stream",
     "text": [
      "Directory 'tests/local_query' created.\n",
      "Bộ Giao thông vận tải quy định các đơn vị kinh doanh vận tải nào phải lắp đặt thiết bị giám sát hành trình trên xe ô tô?\n",
      "['\"SỐ LƯỢNG PHƯƠNG TIỆN VẬN TẢI THUỘC ĐỐI TƯỢNG PHẢI LẮP ĐẶT THIẾT BỊ GIÁM SÁT HÀNH TRÌNH\"', '\"THIẾT BỊ GIÁM SÁT HÀNH TRÌNH\"', '\"ARTICLE 2\"', '\"ĐƠN VỊ CUNG CẤP DỊCH VỤ GIÁM SÁT HÀNH TRÌNH\"', '\"BỘ GIAO THÔNG VẬN TẢI\"', '\"TRANSPORT BUSINESSES\"', '\"HỆ THỐNG THÔNG TIN TỪ THIẾT BỊ GIÁM SÁT HÀNH TRÌNH\"', '\"AGENCIES, ORGANIZATIONS AND INDIVIDUALS INVOLVED IN PROVISION, MANAGEMENT AND USE OF DATA FROM VEHICLE TRACKING DEVICES NATIONWIDE\"', '\"ĐƠN VỊ KINH DOANH VẬN TẢI\"', '\"VEHICLE TRACKING SERVICE PROVIDERS AND AGENCIES\"']\n"
     ]
    },
    {
     "name": "stderr",
     "output_type": "stream",
     "text": [
      "INFO:nano-graphrag:Using 10 entites, 0 communities, 45 relations, 11 text units\n",
      "  2%|▏         | 1/50 [00:00<00:45,  1.08it/s]"
     ]
    },
    {
     "name": "stdout",
     "output_type": "stream",
     "text": [
      "Data has been written to output.json\n",
      "Directory 'tests/local_query' created.\n",
      "Bộ Giao thông vận tải giải thích như thế nào về các từ ngữ như 'hệ thống thông tin' và 'dữ liệu' trong quy định về thiết bị giám sát hành trình?\n",
      "['\"HỆ THỐNG THÔNG TIN\"', '\"HỆ THỐNG THÔNG TIN TỪ THIẾT BỊ GIÁM SÁT HÀNH TRÌNH ĐƯỢC SỬ DỤNG, CẬP NHẬT, KHAI THÁC VÀ QUẢN LÝ\"', '\"HỆ THỐNG THÔNG TIN TỪ THIẾT BỊ GIÁM SÁT HÀNH TRÌNH\"', '\"DỮ LIỆU\"', '\"HƯỚNG DẪN SỬ DỤNG, CẬP NHẬT, KHAI THÁC VÀ QUẢN LÝ HỆ THỐNG THÔNG TIN TỪ THIẾT BỊ GIÁM SÁT HÀNH TRÌNH\"', '\"QUẢN LÝ VÀ SỬ DỤNG DỮ LIỆU TỪ THIẾT BỊ GIÁM SÁT HÀNH TRÌNH\"', '\"SỐ LƯỢNG PHƯƠNG TIỆN VẬN TẢI THUỘC ĐỐI TƯỢNG PHẢI LẮP ĐẶT THIẾT BỊ GIÁM SÁT HÀNH TRÌNH\"', '\"DỮ LIỆU GIÁM SÁT HÀNH TRÌNH\"', '\"BỘ GIAO THÔNG VẬN TẢI\"', '\"DỮ LIỆU TỪ THIẾT BỊ GIÁM SÁT HÀNH TRÌNH\"']\n"
     ]
    },
    {
     "name": "stderr",
     "output_type": "stream",
     "text": [
      "INFO:nano-graphrag:Using 10 entites, 0 communities, 20 relations, 8 text units\n",
      "  4%|▍         | 2/50 [00:01<00:29,  1.62it/s]"
     ]
    },
    {
     "name": "stdout",
     "output_type": "stream",
     "text": [
      "Data has been written to output.json\n",
      "Directory 'tests/local_query' created.\n",
      "Pháp luật quy định như thế nào về việc thu nhận, quản lý và khai thác dữ liệu từ thiết bị giám sát hành trình của xe ô tô?\n",
      "['\"DỮ LIỆU TỪ THIẾT BỊ GIÁM SÁT HÀNH TRÌNH ĐƯỢC SỬ DỤNG, CẬP NHẬT, KHAI THÁC VÀ QUẢN LÝ\"', '\"HƯỚNG DẪN SỬ DỤNG, CẬP NHẬT, KHAI THÁC VÀ QUẢN LÝ HỆ THỐNG THÔNG TIN TỪ THIẾT BỊ GIÁM SÁT HÀNH TRÌNH\"', '\"DỮ LIỆU TỪ THIẾT BỊ GIÁM SÁT HÀNH TRÌNH ĐƯỢC KHAI THÁC VÀ SỬ DỤNG\"', '\"HỆ THỐNG THÔNG TIN TỪ THIẾT BỊ GIÁM SÁT HÀNH TRÌNH ĐƯỢC SỬ DỤNG, CẬP NHẬT, KHAI THÁC VÀ QUẢN LÝ\"', '\"QUẢN LÝ VÀ SỬ DỤNG DỮ LIỆU TỪ THIẾT BỊ GIÁM SÁT HÀNH TRÌNH\"', '\"THIẾT BỊ GIÁM SÁT HÀNH TRÌNH\"', '\"AGENCIES, ORGANIZATIONS AND INDIVIDUALS INVOLVED IN PROVISION, MANAGEMENT AND USE OF DATA FROM VEHICLE TRACKING DEVICES NATIONWIDE\"', '\"DỮ LIỆU GIÁM SÁT HÀNH TRÌNH\"', '\"PHÁP LUẬT\"', '\"HỆ THỐNG THÔNG TIN TỪ THIẾT BỊ GIÁM SÁT HÀNH TRÌNH\"']\n"
     ]
    },
    {
     "name": "stderr",
     "output_type": "stream",
     "text": [
      "INFO:nano-graphrag:Using 10 entites, 0 communities, 15 relations, 11 text units\n",
      "  6%|▌         | 3/50 [00:01<00:23,  1.97it/s]"
     ]
    },
    {
     "name": "stdout",
     "output_type": "stream",
     "text": [
      "Data has been written to output.json\n",
      "Directory 'tests/local_query' created.\n",
      "Bộ Giao thông vận tải quy định thế nào về việc truyền dữ liệu từ thiết bị giám sát hành trình của xe ô tô?\n",
      "['\"BỘ GIAO THÔNG VẬN TẢI\"', '\"HỆ THỐNG THÔNG TIN TỪ THIẾT BỊ GIÁM SÁT HÀNH TRÌNH\"', '\"THIẾT BỊ GIÁM SÁT HÀNH TRÌNH\"', '\"HƯỚNG DẪN SỬ DỤNG, CẬP NHẬT, KHAI THÁC VÀ QUẢN LÝ HỆ THỐNG THÔNG TIN TỪ THIẾT BỊ GIÁM SÁT HÀNH TRÌNH\"', '\"SỐ LƯỢNG PHƯƠNG TIỆN VẬN TẢI THUỘC ĐỐI TƯỢNG PHẢI LẮP ĐẶT THIẾT BỊ GIÁM SÁT HÀNH TRÌNH\"', '\"DIRECTORATE FOR ROADS OF VIETNAM\"', '\"DATA FROM VEHICLE TRACKING DEVICES\"', '\"DỮ LIỆU GIÁM SÁT HÀNH TRÌNH\"', '\"HỆ THỐNG THÔNG TIN\"', '\"DATA FROM AUTOMOBILE TRACKERS\"']\n"
     ]
    },
    {
     "name": "stderr",
     "output_type": "stream",
     "text": [
      "INFO:nano-graphrag:Using 10 entites, 0 communities, 97 relations, 9 text units\n",
      "  8%|▊         | 4/50 [00:02<00:21,  2.19it/s]"
     ]
    },
    {
     "name": "stdout",
     "output_type": "stream",
     "text": [
      "Data has been written to output.json\n",
      "Directory 'tests/local_query' created.\n",
      "Đơn vị cung cấp dịch vụ giám sát hành trình của xe ô tô có trách nhiệm gì trong việc truyền dữ liệu về Tổng cục Đường bộ Việt Nam?\n",
      "['\"TỔNG CỤC ĐƯỜNG BỘ VIỆT NAM\"', '\"ĐƯỜNG BỘ VIỆT NAM\"', '\"DIRECTORATE FOR ROADS OF VIETNAM\"', '\"ĐƠN VỊ CUNG CẤP DỊCH VỤ GIÁM SÁT HÀNH TRÌNH\"', '\"BỘ GIAO THÔNG VẬN TẢI\"', '\"PHƯƠNG THỨC VÀ QUY TRÌNH THỰC HIỆN VIỆC TRUYỀN DỮ LIỆU VỀ TỔNG CỤC ĐƯỜNG BỘ VIỆT NAM\"', '\"AGENCIES, ORGANIZATIONS AND INDIVIDUALS INVOLVED IN PROVISION, MANAGEMENT AND USE OF DATA FROM VEHICLE TRACKING DEVICES NATIONWIDE\"', '\"HỆ THỐNG THÔNG TIN\"', '\"HỆ THỐNG THÔNG TIN CỦA TỔNG CỤC ĐƯỜNG BỘ VIỆT NAM ĐƯỢC SỬ DỤNG, CẬP NHẬT, KHAI THÁC VÀ QUẢN LÝ\"', '\"TRANSPORT BUSINESSES\"']\n"
     ]
    },
    {
     "name": "stderr",
     "output_type": "stream",
     "text": [
      "INFO:nano-graphrag:Using 10 entites, 0 communities, 121 relations, 9 text units\n",
      " 10%|█         | 5/50 [00:02<00:19,  2.31it/s]"
     ]
    },
    {
     "name": "stdout",
     "output_type": "stream",
     "text": [
      "Data has been written to output.json\n",
      "Directory 'tests/local_query' created.\n",
      "Dữ liệu từ thiết bị giám sát hành trình của xe ô tô sẽ được lưu trữ và quản lý như thế nào?\n",
      "['\"DỮ LIỆU TỪ THIẾT BỊ GIÁM SÁT HÀNH TRÌNH ĐƯỢC SỬ DỤNG, CẬP NHẬT, KHAI THÁC VÀ QUẢN LÝ\"', '\"HỆ THỐNG THÔNG TIN TỪ THIẾT BỊ GIÁM SÁT HÀNH TRÌNH ĐƯỢC SỬ DỤNG, CẬP NHẬT, KHAI THÁC VÀ QUẢN LÝ\"', '\"DỮ LIỆU TỪ THIẾT BỊ GIÁM SÁT HÀNH TRÌNH ĐƯỢC KHAI THÁC VÀ SỬ DỤNG\"', '\"QUẢN LÝ VÀ SỬ DỤNG DỮ LIỆU TỪ THIẾT BỊ GIÁM SÁT HÀNH TRÌNH\"', '\"THIẾT BỊ GIÁM SÁT HÀNH TRÌNH\"', '\"HỆ THỐNG THÔNG TIN TỪ THIẾT BỊ GIÁM SÁT HÀNH TRÌNH\"', '\"DỮ LIỆU GIÁM SÁT HÀNH TRÌNH\"', '\"HƯỚNG DẪN SỬ DỤNG, CẬP NHẬT, KHAI THÁC VÀ QUẢN LÝ HỆ THỐNG THÔNG TIN TỪ THIẾT BỊ GIÁM SÁT HÀNH TRÌNH\"', '\"PROVISION, MANAGEMENT, AND USE OF DATA\"', '\"DỮ LIỆU TỪ THIẾT BỊ GIÁM SÁT HÀNH TRÌNH\"']\n"
     ]
    },
    {
     "name": "stderr",
     "output_type": "stream",
     "text": [
      "INFO:nano-graphrag:Using 10 entites, 0 communities, 14 relations, 10 text units\n",
      " 12%|█▏        | 6/50 [00:02<00:17,  2.45it/s]"
     ]
    },
    {
     "name": "stdout",
     "output_type": "stream",
     "text": [
      "Data has been written to output.json\n",
      "Directory 'tests/local_query' created.\n",
      "Bộ Giao thông vận tải quy định như thế nào về cung cấp dữ liệu từ thiết bị giám sát hành trình của xe ô tô?\n",
      "['\"HỆ THỐNG THÔNG TIN TỪ THIẾT BỊ GIÁM SÁT HÀNH TRÌNH\"', '\"BỘ GIAO THÔNG VẬN TẢI\"', '\"HƯỚNG DẪN SỬ DỤNG, CẬP NHẬT, KHAI THÁC VÀ QUẢN LÝ HỆ THỐNG THÔNG TIN TỪ THIẾT BỊ GIÁM SÁT HÀNH TRÌNH\"', '\"DIRECTORATE FOR ROADS OF VIETNAM\"', '\"THIẾT BỊ GIÁM SÁT HÀNH TRÌNH\"', '\"SỐ LƯỢNG PHƯƠNG TIỆN VẬN TẢI THUỘC ĐỐI TƯỢNG PHẢI LẮP ĐẶT THIẾT BỊ GIÁM SÁT HÀNH TRÌNH\"', '\"DATA FROM VEHICLE TRACKING DEVICES\"', '\"DỮ LIỆU GIÁM SÁT HÀNH TRÌNH\"', '\"HỆ THỐNG THÔNG TIN\"', '\"DATA FROM AUTOMOBILE TRACKERS\"']\n"
     ]
    },
    {
     "name": "stderr",
     "output_type": "stream",
     "text": [
      "INFO:nano-graphrag:Using 10 entites, 0 communities, 97 relations, 9 text units\n",
      " 14%|█▍        | 7/50 [00:03<00:17,  2.50it/s]"
     ]
    },
    {
     "name": "stdout",
     "output_type": "stream",
     "text": [
      "Data has been written to output.json\n",
      "Directory 'tests/local_query' created.\n",
      "Loại dữ liệu nào được coi là dữ liệu định danh và phải được gắn kết với dữ liệu giám sát hành trình?\n",
      "['\"DỮ LIỆU ĐỊNH DANH\"', '\"DỮ LIỆU TỪ THIẾT BỊ GIÁM SÁT HÀNH TRÌNH ĐƯỢC SỬ DỤNG, CẬP NHẬT, KHAI THÁC VÀ QUẢN LÝ\"', '\"DỮ LIỆU TỪ THIẾT BỊ GIÁM SÁT HÀNH TRÌNH\"', '\"DỮ LIỆU GIÁM SÁT HÀNH TRÌNH\"', '\"DỮ LIỆU TỪ THIẾT BỊ GIÁM SÁT HÀNH TRÌNH ĐƯỢC KHAI THÁC VÀ SỬ DỤNG\"', '\"QUẢN LÝ VÀ SỬ DỤNG DỮ LIỆU TỪ THIẾT BỊ GIÁM SÁT HÀNH TRÌNH\"', '\"DỮ LIỆU\"', '\"HỆ THỐNG THÔNG TIN TỪ THIẾT BỊ GIÁM SÁT HÀNH TRÌNH ĐƯỢC SỬ DỤNG, CẬP NHẬT, KHAI THÁC VÀ QUẢN LÝ\"', '\"DỮ LIỆU BẮT BUỘC\"', '\"DATA FROM ITINERARY SUPERVISION EQUIPMENT\"']\n"
     ]
    },
    {
     "name": "stderr",
     "output_type": "stream",
     "text": [
      "INFO:nano-graphrag:Using 10 entites, 0 communities, 9 relations, 6 text units\n",
      " 16%|█▌        | 8/50 [00:03<00:16,  2.55it/s]"
     ]
    },
    {
     "name": "stdout",
     "output_type": "stream",
     "text": [
      "Data has been written to output.json\n",
      "Directory 'tests/local_query' created.\n",
      "Tần suất truyền dữ liệu về máy chủ dịch vụ là bao nhiêu khi xe chạy và khi xe dừng không hoạt động?\n",
      "['\"SỐ LẦN VÀ THỜI GIAN KHÔNG TRUYỀN DỮ LIỆU TRONG THÁNG\"', '\"MÁY CHỦ DỊCH VỤ\"', '\"SERVER (ISSUING THE TRANSPORT BUSINESS LICENSE)\"', '\"SERVICE SERVER\"', '\"TẦN SUẤT\"', '\"SERVER\"', '\"UNINTERRUPTED DRIVING TIME\"', '\"SPEED (ISSUING THE TRANSPORT BUSINESS LICENSE)\"', '\"SPEED\"', '\"VIOLATION DATA\"']\n"
     ]
    },
    {
     "name": "stderr",
     "output_type": "stream",
     "text": [
      "INFO:nano-graphrag:Using 10 entites, 0 communities, 21 relations, 11 text units\n",
      " 18%|█▊        | 9/50 [00:03<00:16,  2.56it/s]"
     ]
    },
    {
     "name": "stdout",
     "output_type": "stream",
     "text": [
      "Data has been written to output.json\n",
      "Directory 'tests/local_query' created.\n",
      "Pháp luật quy định những thông tin nào phải được cập nhật liên tục trong dữ liệu giám sát hành trình?\n",
      "['\"DỮ LIỆU TỪ THIẾT BỊ GIÁM SÁT HÀNH TRÌNH ĐƯỢC SỬ DỤNG, CẬP NHẬT, KHAI THÁC VÀ QUẢN LÝ\"', '\"HƯỚNG DẪN SỬ DỤNG, CẬP NHẬT, KHAI THÁC VÀ QUẢN LÝ HỆ THỐNG THÔNG TIN TỪ THIẾT BỊ GIÁM SÁT HÀNH TRÌNH\"', '\"DỮ LIỆU GIÁM SÁT HÀNH TRÌNH\"', '\"HỆ THỐNG THÔNG TIN TỪ THIẾT BỊ GIÁM SÁT HÀNH TRÌNH ĐƯỢC SỬ DỤNG, CẬP NHẬT, KHAI THÁC VÀ QUẢN LÝ\"', '\"HỆ THỐNG THÔNG TIN TỪ THIẾT BỊ GIÁM SÁT HÀNH TRÌNH\"', '\"THIẾT BỊ GIÁM SÁT HÀNH TRÌNH\"', '\"DỮ LIỆU BẮT BUỘC\"', '\"QUẢN LÝ VÀ SỬ DỤNG DỮ LIỆU TỪ THIẾT BỊ GIÁM SÁT HÀNH TRÌNH\"', '\"ARTICLE 1\"', '\"DỮ LIỆU TỪ THIẾT BỊ GIÁM SÁT HÀNH TRÌNH ĐƯỢC KHAI THÁC VÀ SỬ DỤNG\"']\n"
     ]
    },
    {
     "name": "stderr",
     "output_type": "stream",
     "text": [
      "INFO:nano-graphrag:Using 10 entites, 0 communities, 16 relations, 12 text units\n",
      " 20%|██        | 10/50 [00:04<00:15,  2.61it/s]"
     ]
    },
    {
     "name": "stdout",
     "output_type": "stream",
     "text": [
      "Data has been written to output.json\n",
      "Directory 'tests/local_query' created.\n",
      "Đơn vị kinh doanh vận tải có nghĩa vụ gì trong việc cung cấp dữ liệu từ thiết bị giám sát hành trình của xe ô tô?\n",
      "['\"TRANSPORT BUSINESSES\"', '\"BỘ GIAO THÔNG VẬN TẢI\"', '\"SỐ GIAO THÔNG VẬN TẢI\"', '\"SỐ LƯỢNG PHƯƠNG TIỆN VẬN TẢI THUỘC ĐỐI TƯỢNG PHẢI LẮP ĐẶT THIẾT BỊ GIÁM SÁT HÀNH TRÌNH\"', '\"DIRECTORATE FOR ROADS OF VIETNAM\"', '\"ĐƠN VỊ KINH DOANH VẬN TẢI\"', '\"DEPARTMENT OF TRANSPORT\"', '\"ĐƠN VỊ CUNG CẤP DỊCH VỤ GIÁM SÁT HÀNH TRÌNH\"', '\"SỞ GIAO THÔNG VẬN TẢI\"', '\"AGENCIES, ORGANIZATIONS AND INDIVIDUALS INVOLVED IN PROVISION, MANAGEMENT AND USE OF DATA FROM VEHICLE TRACKING DEVICES NATIONWIDE\"']\n"
     ]
    },
    {
     "name": "stderr",
     "output_type": "stream",
     "text": [
      "INFO:nano-graphrag:Using 10 entites, 0 communities, 128 relations, 11 text units\n",
      " 22%|██▏       | 11/50 [00:04<00:14,  2.60it/s]"
     ]
    },
    {
     "name": "stdout",
     "output_type": "stream",
     "text": [
      "Data has been written to output.json\n",
      "Directory 'tests/local_query' created.\n",
      "Bộ Giao thông vận tải quy định thời gian bao lâu để truyền dữ liệu từ thiết bị giám sát hành trình về máy chủ của Tổng cục Đường bộ Việt Nam?\n",
      "['\"PHƯƠNG THỨC VÀ QUY TRÌNH THỰC HIỆN VIỆC TRUYỀN DỮ LIỆU VỀ TỔNG CỤC ĐƯỜNG BỘ VIỆT NAM\"', '\"TỔNG CỤC ĐƯỜNG BỘ VIỆT NAM\"', '\"HỆ THỐNG THÔNG TIN CỦA TỔNG CỤC ĐƯỜNG BỘ VIỆT NAM\"', '\"ĐƯỜNG BỘ VIỆT NAM\"', '\"HỆ THỐNG THÔNG TIN CỦA TỔNG CỤC ĐƯỜNG BỘ VIỆT NAM ĐƯỢC SỬ DỤNG, CẬP NHẬT, KHAI THÁC VÀ QUẢN LÝ\"', '\"THIẾT BỊ GIÁM SÁT HÀNH TRÌNH\"', '\"DIRECTORATE FOR ROADS OF VIETNAM\"', '\"HỆ THỐNG THÔNG TIN\"', '\"BỘ GIAO THÔNG VẬN TẢI\"', '\"HỆ THỐNG THÔNG TIN TỪ THIẾT BỊ GIÁM SÁT HÀNH TRÌNH\"']\n"
     ]
    },
    {
     "name": "stderr",
     "output_type": "stream",
     "text": [
      "INFO:nano-graphrag:Using 10 entites, 0 communities, 118 relations, 9 text units\n",
      " 24%|██▍       | 12/50 [00:05<00:14,  2.56it/s]"
     ]
    },
    {
     "name": "stdout",
     "output_type": "stream",
     "text": [
      "Data has been written to output.json\n",
      "Directory 'tests/local_query' created.\n",
      "Giao thức truyền dữ liệu nào được sử dụng để truyền dữ liệu từ thiết bị giám sát hành trình về máy chủ của Tổng cục Đường bộ Việt Nam?\n",
      "['\"PHƯƠNG THỨC VÀ QUY TRÌNH THỰC HIỆN VIỆC TRUYỀN DỮ LIỆU VỀ TỔNG CỤC ĐƯỜNG BỘ VIỆT NAM\"', '\"HỆ THỐNG THÔNG TIN CỦA TỔNG CỤC ĐƯỜNG BỘ VIỆT NAM\"', '\"HỆ THỐNG THÔNG TIN CỦA TỔNG CỤC ĐƯỜNG BỘ VIỆT NAM ĐƯỢC SỬ DỤNG, CẬP NHẬT, KHAI THÁC VÀ QUẢN LÝ\"', '\"TỔNG CỤC ĐƯỜNG BỘ VIỆT NAM\"', '\"HỆ THỐNG THÔNG TIN\"', '\"HỆ THỐNG THÔNG TIN TỪ THIẾT BỊ GIÁM SÁT HÀNH TRÌNH\"', '\"DATA FROM SERVER OF DIRECTORATE FOR ROADS OF VIETNAM\"', '\"ĐƯỜNG BỘ VIỆT NAM\"', '\"THIẾT BỊ GIÁM SÁT HÀNH TRÌNH\"', '\"DATA FROM TRACKING DEVICE ON SERVER OF DIRECTORATE FOR ROADS OF VIETNAM\"']\n"
     ]
    },
    {
     "name": "stderr",
     "output_type": "stream",
     "text": [
      "INFO:nano-graphrag:Using 10 entites, 0 communities, 53 relations, 11 text units\n",
      " 26%|██▌       | 13/50 [00:05<00:14,  2.58it/s]"
     ]
    },
    {
     "name": "stdout",
     "output_type": "stream",
     "text": [
      "Data has been written to output.json\n",
      "Directory 'tests/local_query' created.\n",
      "Pháp luật quy định máy chủ dịch vụ và máy chủ Tổng cục Đường bộ Việt Nam phải đồng bộ thời gian như thế nào?\n",
      "['\"TỔNG CỤC ĐƯỜNG BỘ VIỆT NAM\"', '\"HỆ THỐNG THÔNG TIN CỦA TỔNG CỤC ĐƯỜNG BỘ VIỆT NAM ĐƯỢC SỬ DỤNG, CẬP NHẬT, KHAI THÁC VÀ QUẢN LÝ\"', '\"MÁY CHỦ DỊCH VỤ\"', '\"HỆ THỐNG THÔNG TIN CỦA TỔNG CỤC ĐƯỜNG BỘ VIỆT NAM\"', '\"ĐƯỜNG BỘ VIỆT NAM\"', '\"PHƯƠNG THỨC VÀ QUY TRÌNH THỰC HIỆN VIỆC TRUYỀN DỮ LIỆU VỀ TỔNG CỤC ĐƯỜNG BỘ VIỆT NAM\"', '\"DIRECTORATE FOR ROADS OF VIETNAM\"', '\"HỆ THỐNG THÔNG TIN\"', '\"SERVICE SERVER\"', '\"DIRECTORS OF SERVICES OF TRANSPORT OF CENTRAL - AFFILIATED CITIES AND PROVINCES\"']\n"
     ]
    },
    {
     "name": "stderr",
     "output_type": "stream",
     "text": [
      "INFO:nano-graphrag:Using 10 entites, 0 communities, 121 relations, 9 text units\n",
      " 28%|██▊       | 14/50 [00:05<00:13,  2.62it/s]"
     ]
    },
    {
     "name": "stdout",
     "output_type": "stream",
     "text": [
      "Data has been written to output.json\n",
      "Directory 'tests/local_query' created.\n",
      "Bộ Giao thông vận tải quy định cấu trúc dữ liệu nào phải được đảm bảo khi truyền từ thiết bị giám sát hành trình?\n",
      "['\"HỆ THỐNG THÔNG TIN TỪ THIẾT BỊ GIÁM SÁT HÀNH TRÌNH\"', '\"HƯỚNG DẪN SỬ DỤNG, CẬP NHẬT, KHAI THÁC VÀ QUẢN LÝ HỆ THỐNG THÔNG TIN TỪ THIẾT BỊ GIÁM SÁT HÀNH TRÌNH\"', '\"THIẾT BỊ GIÁM SÁT HÀNH TRÌNH\"', '\"DỮ LIỆU TỪ THIẾT BỊ GIÁM SÁT HÀNH TRÌNH ĐƯỢC SỬ DỤNG, CẬP NHẬT, KHAI THÁC VÀ QUẢN LÝ\"', '\"SỐ LƯỢNG PHƯƠNG TIỆN VẬN TẢI THUỘC ĐỐI TƯỢNG PHẢI LẮP ĐẶT THIẾT BỊ GIÁM SÁT HÀNH TRÌNH\"', '\"PHỤ LỤC 1\"', '\"HỆ THỐNG THÔNG TIN TỪ THIẾT BỊ GIÁM SÁT HÀNH TRÌNH ĐƯỢC SỬ DỤNG, CẬP NHẬT, KHAI THÁC VÀ QUẢN LÝ\"', '\"DỮ LIỆU GIÁM SÁT HÀNH TRÌNH\"', '\"DỮ LIỆU TỪ THIẾT BỊ GIÁM SÁT HÀNH TRÌNH\"', '\"QUẢN LÝ VÀ SỬ DỤNG DỮ LIỆU TỪ THIẾT BỊ GIÁM SÁT HÀNH TRÌNH\"']\n"
     ]
    },
    {
     "name": "stderr",
     "output_type": "stream",
     "text": [
      "INFO:nano-graphrag:Using 10 entites, 0 communities, 16 relations, 9 text units\n",
      " 30%|███       | 15/50 [00:06<00:13,  2.62it/s]"
     ]
    },
    {
     "name": "stdout",
     "output_type": "stream",
     "text": [
      "Data has been written to output.json\n",
      "Directory 'tests/local_query' created.\n",
      "Nếu đường truyền bị gián đoạn, dữ liệu từ thiết bị giám sát hành trình sẽ được xử lý như thế nào?\n",
      "['\"DỮ LIỆU TỪ THIẾT BỊ GIÁM SÁT HÀNH TRÌNH ĐƯỢC SỬ DỤNG, CẬP NHẬT, KHAI THÁC VÀ QUẢN LÝ\"', '\"DỮ LIỆU TỪ THIẾT BỊ GIÁM SÁT HÀNH TRÌNH ĐƯỢC KHAI THÁC VÀ SỬ DỤNG\"', '\"HỆ THỐNG THÔNG TIN TỪ THIẾT BỊ GIÁM SÁT HÀNH TRÌNH ĐƯỢC SỬ DỤNG, CẬP NHẬT, KHAI THÁC VÀ QUẢN LÝ\"', '\"QUẢN LÝ VÀ SỬ DỤNG DỮ LIỆU TỪ THIẾT BỊ GIÁM SÁT HÀNH TRÌNH\"', '\"THIẾT BỊ GIÁM SÁT HÀNH TRÌNH\"', '\"HƯỚNG DẪN SỬ DỤNG, CẬP NHẬT, KHAI THÁC VÀ QUẢN LÝ HỆ THỐNG THÔNG TIN TỪ THIẾT BỊ GIÁM SÁT HÀNH TRÌNH\"', '\"DỮ LIỆU TỪ THIẾT BỊ GIÁM SÁT HÀNH TRÌNH\"', '\"HỆ THỐNG THÔNG TIN TỪ THIẾT BỊ GIÁM SÁT HÀNH TRÌNH\"', '\"DỮ LIỆU GIÁM SÁT HÀNH TRÌNH\"', '\"TRACKING DEVICE\"']\n"
     ]
    },
    {
     "name": "stderr",
     "output_type": "stream",
     "text": [
      "INFO:nano-graphrag:Using 10 entites, 0 communities, 33 relations, 10 text units\n",
      " 32%|███▏      | 16/50 [00:06<00:13,  2.57it/s]"
     ]
    },
    {
     "name": "stdout",
     "output_type": "stream",
     "text": [
      "Data has been written to output.json\n",
      "Directory 'tests/local_query' created.\n",
      "Bộ Giao thông vận tải quy định như thế nào về việc khai thác và sử dụng dữ liệu từ thiết bị giám sát hành trình của xe ô tô?\n",
      "['\"HƯỚNG DẪN SỬ DỤNG, CẬP NHẬT, KHAI THÁC VÀ QUẢN LÝ HỆ THỐNG THÔNG TIN TỪ THIẾT BỊ GIÁM SÁT HÀNH TRÌNH\"', '\"DỮ LIỆU TỪ THIẾT BỊ GIÁM SÁT HÀNH TRÌNH ĐƯỢC KHAI THÁC VÀ SỬ DỤNG\"', '\"BỘ GIAO THÔNG VẬN TẢI\"', '\"DỮ LIỆU TỪ THIẾT BỊ GIÁM SÁT HÀNH TRÌNH ĐƯỢC SỬ DỤNG, CẬP NHẬT, KHAI THÁC VÀ QUẢN LÝ\"', '\"HỆ THỐNG THÔNG TIN TỪ THIẾT BỊ GIÁM SÁT HÀNH TRÌNH ĐƯỢC SỬ DỤNG, CẬP NHẬT, KHAI THÁC VÀ QUẢN LÝ\"', '\"HỆ THỐNG THÔNG TIN CỦA TỔNG CỤC ĐƯỜNG BỘ VIỆT NAM ĐƯỢC SỬ DỤNG, CẬP NHẬT, KHAI THÁC VÀ QUẢN LÝ\"', '\"DIRECTORATE FOR ROADS OF VIETNAM\"', '\"THIẾT BỊ GIÁM SÁT HÀNH TRÌNH\"', '\"QUẢN LÝ VÀ SỬ DỤNG DỮ LIỆU TỪ THIẾT BỊ GIÁM SÁT HÀNH TRÌNH\"', '\"SỐ LƯỢNG PHƯƠNG TIỆN VẬN TẢI THUỘC ĐỐI TƯỢNG PHẢI LẮP ĐẶT THIẾT BỊ GIÁM SÁT HÀNH TRÌNH\"']\n"
     ]
    },
    {
     "name": "stderr",
     "output_type": "stream",
     "text": [
      "INFO:nano-graphrag:Using 10 entites, 0 communities, 92 relations, 9 text units\n",
      " 34%|███▍      | 17/50 [00:07<00:13,  2.48it/s]"
     ]
    },
    {
     "name": "stdout",
     "output_type": "stream",
     "text": [
      "Data has been written to output.json\n",
      "Directory 'tests/local_query' created.\n",
      "Pháp luật quy định bảo mật thông tin và dữ liệu trên môi trường mạng như thế nào trong trường hợp sử dụng thiết bị giám sát hành trình?\n",
      "['\"QUẢN LÝ VÀ SỬ DỤNG DỮ LIỆU TỪ THIẾT BỊ GIÁM SÁT HÀNH TRÌNH\"', '\"HƯỚNG DẪN SỬ DỤNG, CẬP NHẬT, KHAI THÁC VÀ QUẢN LÝ HỆ THỐNG THÔNG TIN TỪ THIẾT BỊ GIÁM SÁT HÀNH TRÌNH\"', '\"DỮ LIỆU TỪ THIẾT BỊ GIÁM SÁT HÀNH TRÌNH ĐƯỢC SỬ DỤNG, CẬP NHẬT, KHAI THÁC VÀ QUẢN LÝ\"', '\"DỮ LIỆU TỪ THIẾT BỊ GIÁM SÁT HÀNH TRÌNH ĐƯỢC KHAI THÁC VÀ SỬ DỤNG\"', '\"THIẾT BỊ GIÁM SÁT HÀNH TRÌNH\"', '\"HỆ THỐNG THÔNG TIN TỪ THIẾT BỊ GIÁM SÁT HÀNH TRÌNH ĐƯỢC SỬ DỤNG, CẬP NHẬT, KHAI THÁC VÀ QUẢN LÝ\"', '\"DỮ LIỆU GIÁM SÁT HÀNH TRÌNH\"', '\"DỮ LIỆU TỪ THIẾT BỊ GIÁM SÁT HÀNH TRÌNH\"', '\"HỆ THỐNG THÔNG TIN TỪ THIẾT BỊ GIÁM SÁT HÀNH TRÌNH\"', '\"TRACKING DEVICE\"']\n"
     ]
    },
    {
     "name": "stderr",
     "output_type": "stream",
     "text": [
      "INFO:nano-graphrag:Using 10 entites, 0 communities, 33 relations, 10 text units\n",
      " 36%|███▌      | 18/50 [00:07<00:12,  2.47it/s]"
     ]
    },
    {
     "name": "stdout",
     "output_type": "stream",
     "text": [
      "Data has been written to output.json\n",
      "Directory 'tests/local_query' created.\n",
      "Thông tin về vi phạm qua thiết bị giám sát hành trình sẽ được công bố công khai trên trang nào và theo quy định nào?\n",
      "['\"HƯỚNG DẪN SỬ DỤNG, CẬP NHẬT, KHAI THÁC VÀ QUẢN LÝ HỆ THỐNG THÔNG TIN TỪ THIẾT BỊ GIÁM SÁT HÀNH TRÌNH\"', '\"HỆ THỐNG THÔNG TIN TỪ THIẾT BỊ GIÁM SÁT HÀNH TRÌNH ĐƯỢC SỬ DỤNG, CẬP NHẬT, KHAI THÁC VÀ QUẢN LÝ\"', '\"DỮ LIỆU TỪ THIẾT BỊ GIÁM SÁT HÀNH TRÌNH ĐƯỢC SỬ DỤNG, CẬP NHẬT, KHAI THÁC VÀ QUẢN LÝ\"', '\"DỮ LIỆU TỪ THIẾT BỊ GIÁM SÁT HÀNH TRÌNH ĐƯỢC KHAI THÁC VÀ SỬ DỤNG\"', '\"HỆ THỐNG THÔNG TIN TỪ THIẾT BỊ GIÁM SÁT HÀNH TRÌNH\"', '\"THIẾT BỊ GIÁM SÁT HÀNH TRÌNH\"', '\"AGENCIES, ORGANIZATIONS AND INDIVIDUALS INVOLVED IN PROVISION, MANAGEMENT AND USE OF DATA FROM VEHICLE TRACKING DEVICES NATIONWIDE\"', '\"ARTICLE 2\"', '\"ARTICLE 1\"', '\"QUẢN LÝ VÀ SỬ DỤNG DỮ LIỆU TỪ THIẾT BỊ GIÁM SÁT HÀNH TRÌNH\"']\n"
     ]
    },
    {
     "name": "stderr",
     "output_type": "stream",
     "text": [
      "INFO:nano-graphrag:Using 10 entites, 0 communities, 16 relations, 12 text units\n",
      " 38%|███▊      | 19/50 [00:07<00:12,  2.48it/s]"
     ]
    },
    {
     "name": "stdout",
     "output_type": "stream",
     "text": [
      "Data has been written to output.json\n",
      "Directory 'tests/local_query' created.\n",
      "Dữ liệu từ thiết bị giám sát hành trình có thể được sử dụng để phục vụ công tác quản lý vận tải và xử lý vi phạm như thế nào?\n",
      "['\"DỮ LIỆU TỪ THIẾT BỊ GIÁM SÁT HÀNH TRÌNH ĐƯỢC KHAI THÁC VÀ SỬ DỤNG\"', '\"QUẢN LÝ VÀ SỬ DỤNG DỮ LIỆU TỪ THIẾT BỊ GIÁM SÁT HÀNH TRÌNH\"', '\"DỮ LIỆU TỪ THIẾT BỊ GIÁM SÁT HÀNH TRÌNH ĐƯỢC SỬ DỤNG, CẬP NHẬT, KHAI THÁC VÀ QUẢN LÝ\"', '\"HƯỚNG DẪN SỬ DỤNG, CẬP NHẬT, KHAI THÁC VÀ QUẢN LÝ HỆ THỐNG THÔNG TIN TỪ THIẾT BỊ GIÁM SÁT HÀNH TRÌNH\"', '\"DỮ LIỆU GIÁM SÁT HÀNH TRÌNH\"', '\"HỆ THỐNG THÔNG TIN TỪ THIẾT BỊ GIÁM SÁT HÀNH TRÌNH\"', '\"HỆ THỐNG THÔNG TIN TỪ THIẾT BỊ GIÁM SÁT HÀNH TRÌNH ĐƯỢC SỬ DỤNG, CẬP NHẬT, KHAI THÁC VÀ QUẢN LÝ\"', '\"THIẾT BỊ GIÁM SÁT HÀNH TRÌNH\"', '\"SỐ LƯỢNG PHƯƠNG TIỆN VẬN TẢI THUỘC ĐỐI TƯỢNG PHẢI LẮP ĐẶT THIẾT BỊ GIÁM SÁT HÀNH TRÌNH\"', '\"DỮ LIỆU TỪ THIẾT BỊ GIÁM SÁT HÀNH TRÌNH\"']\n"
     ]
    },
    {
     "name": "stderr",
     "output_type": "stream",
     "text": [
      "INFO:nano-graphrag:Using 10 entites, 0 communities, 15 relations, 9 text units\n",
      " 40%|████      | 20/50 [00:08<00:12,  2.47it/s]"
     ]
    },
    {
     "name": "stdout",
     "output_type": "stream",
     "text": [
      "Data has been written to output.json\n",
      "Directory 'tests/local_query' created.\n",
      "Bộ Giao thông vận tải quy định thế nào về quản lý và phân tích dữ liệu từ thiết bị giám sát hành trình của xe ô tô?\n",
      "['\"BỘ GIAO THÔNG VẬN TẢI\"', '\"DIRECTORATE FOR ROADS OF VIETNAM\"', '\"HƯỚNG DẪN SỬ DỤNG, CẬP NHẬT, KHAI THÁC VÀ QUẢN LÝ HỆ THỐNG THÔNG TIN TỪ THIẾT BỊ GIÁM SÁT HÀNH TRÌNH\"', '\"THIẾT BỊ GIÁM SÁT HÀNH TRÌNH\"', '\"DỮ LIỆU TỪ THIẾT BỊ GIÁM SÁT HÀNH TRÌNH ĐƯỢC SỬ DỤNG, CẬP NHẬT, KHAI THÁC VÀ QUẢN LÝ\"', '\"DỮ LIỆU GIÁM SÁT HÀNH TRÌNH\"', '\"SỐ LƯỢNG PHƯƠNG TIỆN VẬN TẢI THUỘC ĐỐI TƯỢNG PHẢI LẮP ĐẶT THIẾT BỊ GIÁM SÁT HÀNH TRÌNH\"', '\"QUẢN LÝ VÀ SỬ DỤNG DỮ LIỆU TỪ THIẾT BỊ GIÁM SÁT HÀNH TRÌNH\"', '\"TỔNG CỤC ĐƯỜNG BỘ VIỆT NAM\"', '\"HỆ THỐNG THÔNG TIN TỪ THIẾT BỊ GIÁM SÁT HÀNH TRÌNH ĐƯỢC SỬ DỤNG, CẬP NHẬT, KHAI THÁC VÀ QUẢN LÝ\"']\n"
     ]
    },
    {
     "name": "stderr",
     "output_type": "stream",
     "text": [
      "INFO:nano-graphrag:Using 10 entites, 0 communities, 119 relations, 9 text units\n",
      " 42%|████▏     | 21/50 [00:08<00:11,  2.49it/s]"
     ]
    },
    {
     "name": "stdout",
     "output_type": "stream",
     "text": [
      "Data has been written to output.json\n",
      "Directory 'tests/local_query' created.\n",
      "Dữ liệu nào từ thiết bị giám sát hành trình được phân tích và tổng hợp?\n",
      "['\"DỮ LIỆU TỪ THIẾT BỊ GIÁM SÁT HÀNH TRÌNH ĐƯỢC SỬ DỤNG, CẬP NHẬT, KHAI THÁC VÀ QUẢN LÝ\"', '\"DỮ LIỆU TỪ THIẾT BỊ GIÁM SÁT HÀNH TRÌNH ĐƯỢC KHAI THÁC VÀ SỬ DỤNG\"', '\"HỆ THỐNG THÔNG TIN TỪ THIẾT BỊ GIÁM SÁT HÀNH TRÌNH ĐƯỢC SỬ DỤNG, CẬP NHẬT, KHAI THÁC VÀ QUẢN LÝ\"', '\"DỮ LIỆU TỪ THIẾT BỊ GIÁM SÁT HÀNH TRÌNH\"', '\"QUẢN LÝ VÀ SỬ DỤNG DỮ LIỆU TỪ THIẾT BỊ GIÁM SÁT HÀNH TRÌNH\"', '\"DATA FROM ITINERARY SUPERVISION EQUIPMENT\"', '\"HỆ THỐNG THÔNG TIN TỪ THIẾT BỊ GIÁM SÁT HÀNH TRÌNH\"', '\"DỮ LIỆU GIÁM SÁT HÀNH TRÌNH\"', '\"HƯỚNG DẪN SỬ DỤNG, CẬP NHẬT, KHAI THÁC VÀ QUẢN LÝ HỆ THỐNG THÔNG TIN TỪ THIẾT BỊ GIÁM SÁT HÀNH TRÌNH\"', '\"THIẾT BỊ GIÁM SÁT HÀNH TRÌNH\"']\n"
     ]
    },
    {
     "name": "stderr",
     "output_type": "stream",
     "text": [
      "INFO:nano-graphrag:Using 10 entites, 0 communities, 15 relations, 11 text units\n",
      " 44%|████▍     | 22/50 [00:09<00:11,  2.55it/s]"
     ]
    },
    {
     "name": "stdout",
     "output_type": "stream",
     "text": [
      "Data has been written to output.json\n",
      "Directory 'tests/local_query' created.\n",
      "Tổng cục Đường bộ Việt Nam có trách nhiệm gì trong việc quản lý và phân tích dữ liệu từ thiết bị giám sát hành trình?\n",
      "['\"TỔNG CỤC ĐƯỜNG BỘ VIỆT NAM\"', '\"DIRECTORATE FOR ROADS OF VIETNAM\"', '\"HỆ THỐNG THÔNG TIN CỦA TỔNG CỤC ĐƯỜNG BỘ VIỆT NAM ĐƯỢC SỬ DỤNG, CẬP NHẬT, KHAI THÁC VÀ QUẢN LÝ\"', '\"ĐƯỜNG BỘ VIỆT NAM\"', '\"HỆ THỐNG THÔNG TIN CỦA TỔNG CỤC ĐƯỜNG BỘ VIỆT NAM\"', '\"PHƯƠNG THỨC VÀ QUY TRÌNH THỰC HIỆN VIỆC TRUYỀN DỮ LIỆU VỀ TỔNG CỤC ĐƯỜNG BỘ VIỆT NAM\"', '\"HỆ THỐNG THÔNG TIN\"', '\"THIẾT BỊ GIÁM SÁT HÀNH TRÌNH\"', '\"BỘ GIAO THÔNG VẬN TẢI\"', '\"HỆ THỐNG THÔNG TIN TỪ THIẾT BỊ GIÁM SÁT HÀNH TRÌNH\"']\n"
     ]
    },
    {
     "name": "stderr",
     "output_type": "stream",
     "text": [
      "INFO:nano-graphrag:Using 10 entites, 0 communities, 118 relations, 9 text units\n",
      " 46%|████▌     | 23/50 [00:09<00:10,  2.51it/s]"
     ]
    },
    {
     "name": "stdout",
     "output_type": "stream",
     "text": [
      "Data has been written to output.json\n",
      "Directory 'tests/local_query' created.\n",
      "Cách tính tỷ lệ vi phạm của xe và đơn vị kinh doanh vận tải được quy định như thế nào?\n",
      "['\"TỶ LỆ NGƯỜI LÁI XE VI PHẠM QUY ĐỊNH VỀ THỜI GIAN LÁI XE LIÊN TỤC\"', '\"SỐ GIAO THÔNG VẬN TẢI\"', '\"PROVINCIAL - LEVEL TRANSPORT DEPARTMENTS TO HANDLE VIOLATIONS\"', '\"ĐƠN VỊ KINH DOANH VẬN TẢI TRONG VIỆC CHẤP HÀNH CÁC QUY ĐỊNH VỀ QUẢN LÝ HOẠT ĐỘNG VẬN TẢI\"', '\"ASSESSMENT OF COMPLIANCE WITH REGULATIONS\"', '\"TRANSPORT DEPARTMENTS\"', '\"TÌNH HÌNH VI PHẠM THEO TỪNG TUYẾN ĐƯỜNG\"', '\"DEPARTMENT OF TRANSPORT\"', '\"PROVINCIAL DEPARTMENTS OF TRANSPORT\"', '\"ĐƠN VỊ KINH DOANH VẬN TẢI\"']\n"
     ]
    },
    {
     "name": "stderr",
     "output_type": "stream",
     "text": [
      "INFO:nano-graphrag:Using 10 entites, 0 communities, 51 relations, 11 text units\n",
      " 48%|████▊     | 24/50 [00:09<00:10,  2.52it/s]"
     ]
    },
    {
     "name": "stdout",
     "output_type": "stream",
     "text": [
      "Data has been written to output.json\n",
      "Directory 'tests/local_query' created.\n",
      "Bộ Giao thông vận tải quy định thế nào về tỷ lệ người lái xe vi phạm quy định về thời gian lái xe liên tục?\n",
      "['\"TỶ LỆ NGƯỜI LÁI XE VI PHẠM QUY ĐỊNH VỀ THỜI GIAN LÁI XE LIÊN TỤC\"', '\"VEHICLE OPERATORS\"', '\"VEHICLE OWNERS\"', '\"THỜI GIAN LÁI XE LIÊN TỤC\"', '\"DRIVERS\"', '\"UNINTERRUPTED DRIVING TIME\"', '\"VIOLATION DATA\"', '\"WORKING TIME OF DRIVERS\"', '\"TÌNH HÌNH VI PHẠM THEO TỪNG TUYẾN ĐƯỜNG\"', '\"HÀNH VI VI PHẠM CỦA LÁI XE\"']\n"
     ]
    },
    {
     "name": "stderr",
     "output_type": "stream",
     "text": [
      "INFO:nano-graphrag:Using 10 entites, 0 communities, 14 relations, 9 text units\n",
      " 50%|█████     | 25/50 [00:10<00:09,  2.52it/s]"
     ]
    },
    {
     "name": "stdout",
     "output_type": "stream",
     "text": [
      "Data has been written to output.json\n",
      "Directory 'tests/local_query' created.\n",
      "Sở Giao thông vận tải có quyền truy cập và quản lý dữ liệu nào về xe ô tô?\n",
      "['\"BỘ GIAO THÔNG VẬN TẢI\"', '\"SỞ GIAO THÔNG VẬN TẢI\"', '\"SỐ GIAO THÔNG VẬN TẢI\"', '\"DIRECTORATE FOR ROADS OF VIETNAM\"', '\"PROVINCIAL DEPARTMENTS OF TRANSPORT\"', '\"TỔNG CỤC ĐƯỜNG BỘ VIỆT NAM\"', '\"DEPARTMENT OF TRANSPORT\"', '\"HỆ THỐNG THÔNG TIN CỦA TỔNG CỤC ĐƯỜNG BỘ VIỆT NAM ĐƯỢC SỬ DỤNG, CẬP NHẬT, KHAI THÁC VÀ QUẢN LÝ\"', '\"DEPARTMENTS OF TRANSPORT\"', '\"HỆ THỐNG THÔNG TIN\"']\n"
     ]
    },
    {
     "name": "stderr",
     "output_type": "stream",
     "text": [
      "INFO:nano-graphrag:Using 10 entites, 0 communities, 117 relations, 9 text units\n",
      " 52%|█████▏    | 26/50 [00:10<00:09,  2.54it/s]"
     ]
    },
    {
     "name": "stdout",
     "output_type": "stream",
     "text": [
      "Data has been written to output.json\n",
      "Directory 'tests/local_query' created.\n",
      "Bến xe khách, bến xe hàng được cung cấp tài khoản đăng nhập vào cơ sở dữ liệu của Tổng cục Đường bộ Việt Nam để làm gì?\n",
      "['\"BẾN XE HÀNG\"', '\"BẾN XE KHÁCH\"', '\"VEHICLE TERMINALS\"', '\"HỆ THỐNG THÔNG TIN CỦA TỔNG CỤC ĐƯỜNG BỘ VIỆT NAM ĐƯỢC SỬ DỤNG, CẬP NHẬT, KHAI THÁC VÀ QUẢN LÝ\"', '\"TỔNG CỤC ĐƯỜNG BỘ VIỆT NAM\"', '\"PASSENGER CAR TERMINALS\"', '\"HỆ THỐNG THÔNG TIN CỦA TỔNG CỤC ĐƯỜNG BỘ VIỆT NAM\"', '\"PHƯƠNG THỨC VÀ QUY TRÌNH THỰC HIỆN VIỆC TRUYỀN DỮ LIỆU VỀ TỔNG CỤC ĐƯỜNG BỘ VIỆT NAM\"', '\"HỆ THỐNG THÔNG TIN\"', '\"ĐƯỜNG BỘ VIỆT NAM\"']\n"
     ]
    },
    {
     "name": "stderr",
     "output_type": "stream",
     "text": [
      "INFO:nano-graphrag:Using 10 entites, 0 communities, 48 relations, 13 text units\n",
      " 54%|█████▍    | 27/50 [00:11<00:09,  2.52it/s]"
     ]
    },
    {
     "name": "stdout",
     "output_type": "stream",
     "text": [
      "Data has been written to output.json\n",
      "Directory 'tests/local_query' created.\n",
      "Bộ Giao thông vận tải quy định như thế nào về quyền truy cập cơ sở dữ liệu của các đơn vị vận tải?\n",
      "['\"BỘ GIAO THÔNG VẬN TẢI\"', '\"SỞ GIAO THÔNG VẬN TẢI\"', '\"HỆ THỐNG THÔNG TIN CỦA TỔNG CỤC ĐƯỜNG BỘ VIỆT NAM ĐƯỢC SỬ DỤNG, CẬP NHẬT, KHAI THÁC VÀ QUẢN LÝ\"', '\"TRANSPORT BUSINESSES\"', '\"TỔNG CỤC ĐƯỜNG BỘ VIỆT NAM\"', '\"TRANSPORT SERVICE PROVIDERS\"', '\"CƠ SỞ DỮ LIỆU\"', '\"ARTICLE 2\"', '\"PHƯƠNG THỨC VÀ QUY TRÌNH THỰC HIỆN VIỆC TRUYỀN DỮ LIỆU VỀ TỔNG CỤC ĐƯỜNG BỘ VIỆT NAM\"', '\"DỮ LIỆU BẮT BUỘC\"']\n"
     ]
    },
    {
     "name": "stderr",
     "output_type": "stream",
     "text": [
      "INFO:nano-graphrag:Using 10 entites, 0 communities, 65 relations, 13 text units\n",
      " 56%|█████▌    | 28/50 [00:11<00:08,  2.57it/s]"
     ]
    },
    {
     "name": "stdout",
     "output_type": "stream",
     "text": [
      "Data has been written to output.json\n",
      "Directory 'tests/local_query' created.\n",
      "Bến xe khách, bến xe hàng có trách nhiệm gì trong việc quản lý phương tiện hoạt động tại bến?\n",
      "['\"BẾN XE HÀNG\"', '\"BẾN XE KHÁCH\"', '\"PASSENGER CAR TERMINALS\"', '\"TRANSPORT DEPARTMENTS\"', '\"PASSENGER AND FREIGHT STATIONS\"', '\"DEPARTMENTS OF TRANSPORT\"', '\"TRÁCH NHIỆM ĐỐI VỚI ĐƠN VỊ KINH DOANH VẬN TẢI\"', '\"TỔNG CỤC ĐƯỜNG BỘ VIỆT NAM\"', '\"SỞ GIAO THÔNG VẬN TẢI\"', '\"DEPARTMENT OF TRANSPORT\"']\n"
     ]
    },
    {
     "name": "stderr",
     "output_type": "stream",
     "text": [
      "INFO:nano-graphrag:Using 10 entites, 0 communities, 78 relations, 11 text units\n",
      " 58%|█████▊    | 29/50 [00:11<00:08,  2.55it/s]"
     ]
    },
    {
     "name": "stdout",
     "output_type": "stream",
     "text": [
      "Data has been written to output.json\n",
      "Directory 'tests/local_query' created.\n",
      "Tổng cục Đường bộ Việt Nam có quyền hạn gì trong việc quản lý dữ liệu từ thiết bị giám sát hành trình của xe ô tô?\n",
      "['\"TỔNG CỤC ĐƯỜNG BỘ VIỆT NAM\"', '\"HỆ THỐNG THÔNG TIN CỦA TỔNG CỤC ĐƯỜNG BỘ VIỆT NAM ĐƯỢC SỬ DỤNG, CẬP NHẬT, KHAI THÁC VÀ QUẢN LÝ\"', '\"DIRECTORATE FOR ROADS OF VIETNAM\"', '\"HỆ THỐNG THÔNG TIN CỦA TỔNG CỤC ĐƯỜNG BỘ VIỆT NAM\"', '\"ĐƯỜNG BỘ VIỆT NAM\"', '\"HỆ THỐNG THÔNG TIN\"', '\"BỘ GIAO THÔNG VẬN TẢI\"', '\"PHƯƠNG THỨC VÀ QUY TRÌNH THỰC HIỆN VIỆC TRUYỀN DỮ LIỆU VỀ TỔNG CỤC ĐƯỜNG BỘ VIỆT NAM\"', '\"THIẾT BỊ GIÁM SÁT HÀNH TRÌNH\"', '\"AGENCIES, ORGANIZATIONS AND INDIVIDUALS INVOLVED IN PROVISION, MANAGEMENT AND USE OF DATA FROM VEHICLE TRACKING DEVICES NATIONWIDE\"']\n"
     ]
    },
    {
     "name": "stderr",
     "output_type": "stream",
     "text": [
      "INFO:nano-graphrag:Using 10 entites, 0 communities, 118 relations, 9 text units\n",
      " 60%|██████    | 30/50 [00:12<00:07,  2.56it/s]"
     ]
    },
    {
     "name": "stdout",
     "output_type": "stream",
     "text": [
      "Data has been written to output.json\n",
      "Directory 'tests/local_query' created.\n",
      "Để được cung cấp tài khoản đăng nhập vào cơ sở dữ liệu, đơn vị vận tải hoặc đơn vị cung cấp dịch vụ cần đáp ứng điều kiện gì?\n",
      "['\"TRANSPORT SERVICE PROVIDERS\"', '\"TÀI KHOẢN ĐĂNG NHẬP\"', '\"VEHICLE TERMINALS\"', '\"DỮ LIỆU BẮT BUỘC\"', '\"AUTHORIZED SERVICE PROVIDERS\"', '\"YÊU CẦU VỀ CUNG CẤP DỮ LIỆU\"', '\"ARTICLE 2\"', '\"CƠ SỞ DỮ LIỆU\"', '\"TRANSPORT BUSINESSES\"', '\"PASSENGER CAR TERMINALS\"']\n"
     ]
    },
    {
     "name": "stderr",
     "output_type": "stream",
     "text": [
      "INFO:nano-graphrag:Using 10 entites, 0 communities, 23 relations, 9 text units\n",
      " 62%|██████▏   | 31/50 [00:12<00:07,  2.48it/s]"
     ]
    },
    {
     "name": "stdout",
     "output_type": "stream",
     "text": [
      "Data has been written to output.json\n",
      "Directory 'tests/local_query' created.\n",
      "Mục đích của việc cung cấp tài khoản đăng nhập vào cơ sở dữ liệu của Tổng cục Đường bộ Việt Nam là gì?\n",
      "['\"HỆ THỐNG THÔNG TIN CỦA TỔNG CỤC ĐƯỜNG BỘ VIỆT NAM\"', '\"TỔNG CỤC ĐƯỜNG BỘ VIỆT NAM\"', '\"HỆ THỐNG THÔNG TIN CỦA TỔNG CỤC ĐƯỜNG BỘ VIỆT NAM ĐƯỢC SỬ DỤNG, CẬP NHẬT, KHAI THÁC VÀ QUẢN LÝ\"', '\"PHƯƠNG THỨC VÀ QUY TRÌNH THỰC HIỆN VIỆC TRUYỀN DỮ LIỆU VỀ TỔNG CỤC ĐƯỜNG BỘ VIỆT NAM\"', '\"VEHICLE TERMINALS\"', '\"HỆ THỐNG THÔNG TIN\"', '\"ĐƯỜNG BỘ VIỆT NAM\"', '\"DATA TRANSMISSION ACCOUNTS\"', '\"TRANSPORT SERVICE PROVIDERS\"', '\"DỮ LIỆU BẮT BUỘC\"']\n"
     ]
    },
    {
     "name": "stderr",
     "output_type": "stream",
     "text": [
      "INFO:nano-graphrag:Using 10 entites, 0 communities, 46 relations, 13 text units\n",
      " 64%|██████▍   | 32/50 [00:13<00:07,  2.49it/s]"
     ]
    },
    {
     "name": "stdout",
     "output_type": "stream",
     "text": [
      "Data has been written to output.json\n",
      "Directory 'tests/local_query' created.\n",
      "Bộ Giao thông vận tải quy định như thế nào về trách nhiệm của Tổng cục Đường bộ Việt Nam trong việc đầu tư, xây dựng hệ thống thông tin và quản lý dữ liệu từ thiết bị giám sát hành trình của xe ô tô?\n",
      "['\"TỔNG CỤC ĐƯỜNG BỘ VIỆT NAM\"', '\"HỆ THỐNG THÔNG TIN CỦA TỔNG CỤC ĐƯỜNG BỘ VIỆT NAM ĐƯỢC SỬ DỤNG, CẬP NHẬT, KHAI THÁC VÀ QUẢN LÝ\"', '\"HỆ THỐNG THÔNG TIN CỦA TỔNG CỤC ĐƯỜNG BỘ VIỆT NAM\"', '\"DIRECTORATE FOR ROADS OF VIETNAM\"', '\"HỆ THỐNG THÔNG TIN\"', '\"ĐƯỜNG BỘ VIỆT NAM\"', '\"BỘ GIAO THÔNG VẬN TẢI\"', '\"PHƯƠNG THỨC VÀ QUY TRÌNH THỰC HIỆN VIỆC TRUYỀN DỮ LIỆU VỀ TỔNG CỤC ĐƯỜNG BỘ VIỆT NAM\"', '\"AGENCIES, ORGANIZATIONS AND INDIVIDUALS INVOLVED IN PROVISION, MANAGEMENT AND USE OF DATA FROM VEHICLE TRACKING DEVICES NATIONWIDE\"', '\"DEPARTMENT OF TRANSPORT\"']\n"
     ]
    },
    {
     "name": "stderr",
     "output_type": "stream",
     "text": [
      "INFO:nano-graphrag:Using 10 entites, 0 communities, 117 relations, 9 text units\n",
      " 66%|██████▌   | 33/50 [00:13<00:07,  2.30it/s]"
     ]
    },
    {
     "name": "stdout",
     "output_type": "stream",
     "text": [
      "Data has been written to output.json\n",
      "Directory 'tests/local_query' created.\n",
      "Thông tin, dữ liệu từ thiết bị giám sát hành trình trên hệ thống thông tin của Tổng cục Đường bộ Việt Nam phải đáp ứng những yêu cầu nào về tính liên tục, chính xác?\n",
      "['\"HỆ THỐNG THÔNG TIN CỦA TỔNG CỤC ĐƯỜNG BỘ VIỆT NAM ĐƯỢC SỬ DỤNG, CẬP NHẬT, KHAI THÁC VÀ QUẢN LÝ\"', '\"HỆ THỐNG THÔNG TIN\"', '\"HƯỚNG DẪN SỬ DỤNG, CẬP NHẬT, KHAI THÁC VÀ QUẢN LÝ HỆ THỐNG THÔNG TIN TỪ THIẾT BỊ GIÁM SÁT HÀNH TRÌNH\"', '\"TỔNG CỤC ĐƯỜNG BỘ VIỆT NAM\"', '\"HỆ THỐNG THÔNG TIN CỦA TỔNG CỤC ĐƯỜNG BỘ VIỆT NAM\"', '\"HỆ THỐNG THÔNG TIN TỪ THIẾT BỊ GIÁM SÁT HÀNH TRÌNH\"', '\"HỆ THỐNG THÔNG TIN TỪ THIẾT BỊ GIÁM SÁT HÀNH TRÌNH ĐƯỢC SỬ DỤNG, CẬP NHẬT, KHAI THÁC VÀ QUẢN LÝ\"', '\"PHƯƠNG THỨC VÀ QUY TRÌNH THỰC HIỆN VIỆC TRUYỀN DỮ LIỆU VỀ TỔNG CỤC ĐƯỜNG BỘ VIỆT NAM\"', '\"DỮ LIỆU TỪ THIẾT BỊ GIÁM SÁT HÀNH TRÌNH ĐƯỢC SỬ DỤNG, CẬP NHẬT, KHAI THÁC VÀ QUẢN LÝ\"', '\"DIRECTORATE FOR ROADS OF VIETNAM\"']\n"
     ]
    },
    {
     "name": "stderr",
     "output_type": "stream",
     "text": [
      "INFO:nano-graphrag:Using 10 entites, 0 communities, 117 relations, 9 text units\n",
      " 68%|██████▊   | 34/50 [00:14<00:06,  2.30it/s]"
     ]
    },
    {
     "name": "stdout",
     "output_type": "stream",
     "text": [
      "Data has been written to output.json\n",
      "Directory 'tests/local_query' created.\n",
      "Trong trường hợp có sự cố về đường truyền hoặc máy chủ, Tổng cục Đường bộ Việt Nam có trách nhiệm cảnh báo như thế nào cho các đơn vị khai thác dữ liệu thiết bị giám sát hành trình?\n",
      "['\"TỔNG CỤC ĐƯỜNG BỘ VIỆT NAM\"', '\"CẢNH BÁO\"', '\"HỆ THỐNG THÔNG TIN CỦA TỔNG CỤC ĐƯỜNG BỘ VIỆT NAM ĐƯỢC SỬ DỤNG, CẬP NHẬT, KHAI THÁC VÀ QUẢN LÝ\"', '\"PHƯƠNG THỨC VÀ QUY TRÌNH THỰC HIỆN VIỆC TRUYỀN DỮ LIỆU VỀ TỔNG CỤC ĐƯỜNG BỘ VIỆT NAM\"', '\"HỆ THỐNG THÔNG TIN CỦA TỔNG CỤC ĐƯỜNG BỘ VIỆT NAM\"', '\"ĐƯỜNG BỘ VIỆT NAM\"', '\"DIRECTORATE FOR ROADS OF VIETNAM\"', '\"HỆ THỐNG THÔNG TIN\"', '\"THIẾT BỊ GIÁM SÁT HÀNH TRÌNH\"', '\"HƯỚNG DẪN SỬ DỤNG, CẬP NHẬT, KHAI THÁC VÀ QUẢN LÝ HỆ THỐNG THÔNG TIN TỪ THIẾT BỊ GIÁM SÁT HÀNH TRÌNH\"']\n"
     ]
    },
    {
     "name": "stderr",
     "output_type": "stream",
     "text": [
      "INFO:nano-graphrag:Using 10 entites, 0 communities, 118 relations, 9 text units\n",
      " 70%|███████   | 35/50 [00:14<00:06,  2.31it/s]"
     ]
    },
    {
     "name": "stdout",
     "output_type": "stream",
     "text": [
      "Data has been written to output.json\n",
      "Directory 'tests/local_query' created.\n",
      "Bộ Giao thông vận tải quy định như thế nào về quyền và nghĩa vụ của các đơn vị vận tải trong việc cung cấp dữ liệu từ thiết bị giám sát hành trình?\n",
      "['\"BỘ GIAO THÔNG VẬN TẢI\"', '\"SỐ LƯỢNG PHƯƠNG TIỆN VẬN TẢI THUỘC ĐỐI TƯỢNG PHẢI LẮP ĐẶT THIẾT BỊ GIÁM SÁT HÀNH TRÌNH\"', '\"DIRECTORATE FOR ROADS OF VIETNAM\"', '\"DEPARTMENT OF TRANSPORT\"', '\"TRANSPORT BUSINESSES\"', '\"ĐƠN VỊ CUNG CẤP DỊCH VỤ GIÁM SÁT HÀNH TRÌNH\"', '\"TỔNG CỤC ĐƯỜNG BỘ VIỆT NAM\"', '\"SỞ GIAO THÔNG VẬN TẢI\"', '\"HƯỚNG DẪN SỬ DỤNG, CẬP NHẬT, KHAI THÁC VÀ QUẢN LÝ HỆ THỐNG THÔNG TIN TỪ THIẾT BỊ GIÁM SÁT HÀNH TRÌNH\"', '\"HỆ THỐNG THÔNG TIN TỪ THIẾT BỊ GIÁM SÁT HÀNH TRÌNH\"']\n"
     ]
    },
    {
     "name": "stderr",
     "output_type": "stream",
     "text": [
      "INFO:nano-graphrag:Using 10 entites, 0 communities, 117 relations, 9 text units\n",
      " 72%|███████▏  | 36/50 [00:14<00:06,  2.30it/s]"
     ]
    },
    {
     "name": "stdout",
     "output_type": "stream",
     "text": [
      "Data has been written to output.json\n",
      "Directory 'tests/local_query' created.\n",
      "Tổng cục Đường bộ Việt Nam có trách nhiệm gì trong việc quản lý và khai thác dữ liệu từ thiết bị giám sát hành trình?\n",
      "['\"TỔNG CỤC ĐƯỜNG BỘ VIỆT NAM\"', '\"HỆ THỐNG THÔNG TIN CỦA TỔNG CỤC ĐƯỜNG BỘ VIỆT NAM ĐƯỢC SỬ DỤNG, CẬP NHẬT, KHAI THÁC VÀ QUẢN LÝ\"', '\"DIRECTORATE FOR ROADS OF VIETNAM\"', '\"ĐƯỜNG BỘ VIỆT NAM\"', '\"HỆ THỐNG THÔNG TIN CỦA TỔNG CỤC ĐƯỜNG BỘ VIỆT NAM\"', '\"HỆ THỐNG THÔNG TIN\"', '\"PHƯƠNG THỨC VÀ QUY TRÌNH THỰC HIỆN VIỆC TRUYỀN DỮ LIỆU VỀ TỔNG CỤC ĐƯỜNG BỘ VIỆT NAM\"', '\"THIẾT BỊ GIÁM SÁT HÀNH TRÌNH\"', '\"BỘ GIAO THÔNG VẬN TẢI\"', '\"DỮ LIỆU TỪ THIẾT BỊ GIÁM SÁT HÀNH TRÌNH ĐƯỢC SỬ DỤNG, CẬP NHẬT, KHAI THÁC VÀ QUẢN LÝ\"']\n"
     ]
    },
    {
     "name": "stderr",
     "output_type": "stream",
     "text": [
      "INFO:nano-graphrag:Using 10 entites, 0 communities, 118 relations, 9 text units\n",
      " 74%|███████▍  | 37/50 [00:15<00:05,  2.37it/s]"
     ]
    },
    {
     "name": "stdout",
     "output_type": "stream",
     "text": [
      "Data has been written to output.json\n",
      "Directory 'tests/local_query' created.\n",
      "Pháp luật quy định phương thức và quy trình nào để các đơn vị kinh doanh vận tải truyền dữ liệu về Tổng cục Đường bộ Việt Nam?\n",
      "['\"PHƯƠNG THỨC VÀ QUY TRÌNH THỰC HIỆN VIỆC TRUYỀN DỮ LIỆU VỀ TỔNG CỤC ĐƯỜNG BỘ VIỆT NAM\"', '\"TỔNG CỤC ĐƯỜNG BỘ VIỆT NAM\"', '\"ĐƯỜNG BỘ VIỆT NAM\"', '\"HỆ THỐNG THÔNG TIN CỦA TỔNG CỤC ĐƯỜNG BỘ VIỆT NAM ĐƯỢC SỬ DỤNG, CẬP NHẬT, KHAI THÁC VÀ QUẢN LÝ\"', '\"TRANSPORT BUSINESSES\"', '\"HỆ THỐNG THÔNG TIN CỦA TỔNG CỤC ĐƯỜNG BỘ VIỆT NAM\"', '\"HỆ THỐNG THÔNG TIN\"', '\"SỞ GIAO THÔNG VẬN TẢI\"', '\"ĐƠN VỊ KINH DOANH VẬN TẢI\"', '\"DIRECTORATE FOR ROADS OF VIETNAM\"']\n"
     ]
    },
    {
     "name": "stderr",
     "output_type": "stream",
     "text": [
      "INFO:nano-graphrag:Using 10 entites, 0 communities, 116 relations, 11 text units\n",
      " 76%|███████▌  | 38/50 [00:15<00:05,  2.40it/s]"
     ]
    },
    {
     "name": "stdout",
     "output_type": "stream",
     "text": [
      "Data has been written to output.json\n",
      "Directory 'tests/local_query' created.\n",
      "Dữ liệu từ thiết bị giám sát hành trình được sử dụng như thế nào trong công tác quản lý nhà nước về vận tải?\n",
      "['\"QUẢN LÝ VÀ SỬ DỤNG DỮ LIỆU TỪ THIẾT BỊ GIÁM SÁT HÀNH TRÌNH\"', '\"DỮ LIỆU TỪ THIẾT BỊ GIÁM SÁT HÀNH TRÌNH ĐƯỢC SỬ DỤNG, CẬP NHẬT, KHAI THÁC VÀ QUẢN LÝ\"', '\"DỮ LIỆU TỪ THIẾT BỊ GIÁM SÁT HÀNH TRÌNH ĐƯỢC KHAI THÁC VÀ SỬ DỤNG\"', '\"DỮ LIỆU GIÁM SÁT HÀNH TRÌNH\"', '\"HỆ THỐNG THÔNG TIN TỪ THIẾT BỊ GIÁM SÁT HÀNH TRÌNH ĐƯỢC SỬ DỤNG, CẬP NHẬT, KHAI THÁC VÀ QUẢN LÝ\"', '\"THIẾT BỊ GIÁM SÁT HÀNH TRÌNH\"', '\"HỆ THỐNG THÔNG TIN TỪ THIẾT BỊ GIÁM SÁT HÀNH TRÌNH\"', '\"HƯỚNG DẪN SỬ DỤNG, CẬP NHẬT, KHAI THÁC VÀ QUẢN LÝ HỆ THỐNG THÔNG TIN TỪ THIẾT BỊ GIÁM SÁT HÀNH TRÌNH\"', '\"BỘ GIAO THÔNG VẬN TẢI\"', '\"DIRECTORATE FOR ROADS OF VIETNAM\"']\n"
     ]
    },
    {
     "name": "stderr",
     "output_type": "stream",
     "text": [
      "INFO:nano-graphrag:Using 10 entites, 0 communities, 92 relations, 9 text units\n",
      " 78%|███████▊  | 39/50 [00:16<00:04,  2.42it/s]"
     ]
    },
    {
     "name": "stdout",
     "output_type": "stream",
     "text": [
      "Data has been written to output.json\n",
      "Directory 'tests/local_query' created.\n",
      "Sở Giao thông vận tải có trách nhiệm gì trong việc quản lý và khai thác hệ thống thông tin từ thiết bị giám sát hành trình?\n",
      "['\"BỘ GIAO THÔNG VẬN TẢI\"', '\"SỞ GIAO THÔNG VẬN TẢI\"', '\"DIRECTORATE FOR ROADS OF VIETNAM\"', '\"DEPARTMENT OF TRANSPORT\"', '\"HƯỚNG DẪN SỬ DỤNG, CẬP NHẬT, KHAI THÁC VÀ QUẢN LÝ HỆ THỐNG THÔNG TIN TỪ THIẾT BỊ GIÁM SÁT HÀNH TRÌNH\"', '\"HỆ THỐNG THÔNG TIN TỪ THIẾT BỊ GIÁM SÁT HÀNH TRÌNH\"', '\"HỆ THỐNG THÔNG TIN\"', '\"THIẾT BỊ GIÁM SÁT HÀNH TRÌNH\"', '\"TỔNG CỤC ĐƯỜNG BỘ VIỆT NAM\"', '\"HỆ THỐNG THÔNG TIN TỪ THIẾT BỊ GIÁM SÁT HÀNH TRÌNH ĐƯỢC SỬ DỤNG, CẬP NHẬT, KHAI THÁC VÀ QUẢN LÝ\"']\n"
     ]
    },
    {
     "name": "stderr",
     "output_type": "stream",
     "text": [
      "INFO:nano-graphrag:Using 10 entites, 0 communities, 117 relations, 9 text units\n",
      " 80%|████████  | 40/50 [00:16<00:04,  2.43it/s]"
     ]
    },
    {
     "name": "stdout",
     "output_type": "stream",
     "text": [
      "Data has been written to output.json\n",
      "Directory 'tests/local_query' created.\n",
      "Bộ Giao thông vận tải quy định như thế nào về trách nhiệm của Sở Giao thông vận tải trong quản lý và sử dụng dữ liệu từ thiết bị giám sát hành trình?\n",
      "['\"BỘ GIAO THÔNG VẬN TẢI\"', '\"DIRECTORATE FOR ROADS OF VIETNAM\"', '\"QUẢN LÝ VÀ SỬ DỤNG DỮ LIỆU TỪ THIẾT BỊ GIÁM SÁT HÀNH TRÌNH\"', '\"SỐ LƯỢNG PHƯƠNG TIỆN VẬN TẢI THUỘC ĐỐI TƯỢNG PHẢI LẮP ĐẶT THIẾT BỊ GIÁM SÁT HÀNH TRÌNH\"', '\"HƯỚNG DẪN SỬ DỤNG, CẬP NHẬT, KHAI THÁC VÀ QUẢN LÝ HỆ THỐNG THÔNG TIN TỪ THIẾT BỊ GIÁM SÁT HÀNH TRÌNH\"', '\"THIẾT BỊ GIÁM SÁT HÀNH TRÌNH\"', '\"SỞ GIAO THÔNG VẬN TẢI\"', '\"DEPARTMENT OF TRANSPORT\"', '\"TỔNG CỤC ĐƯỜNG BỘ VIỆT NAM\"', '\"DỮ LIỆU TỪ THIẾT BỊ GIÁM SÁT HÀNH TRÌNH ĐƯỢC SỬ DỤNG, CẬP NHẬT, KHAI THÁC VÀ QUẢN LÝ\"']\n"
     ]
    },
    {
     "name": "stderr",
     "output_type": "stream",
     "text": [
      "INFO:nano-graphrag:Using 10 entites, 0 communities, 117 relations, 9 text units\n",
      " 82%|████████▏ | 41/50 [00:16<00:03,  2.40it/s]"
     ]
    },
    {
     "name": "stdout",
     "output_type": "stream",
     "text": [
      "Data has been written to output.json\n",
      "Directory 'tests/local_query' created.\n",
      "Pháp luật quy định thời gian lưu trữ dữ liệu từ thiết bị giám sát hành trình là bao nhiêu năm và ai là người chịu trách nhiệm bảo mật dữ liệu?\n",
      "['\"THIẾT BỊ GIÁM SÁT HÀNH TRÌNH\"', '\"DỮ LIỆU TỪ THIẾT BỊ GIÁM SÁT HÀNH TRÌNH ĐƯỢC SỬ DỤNG, CẬP NHẬT, KHAI THÁC VÀ QUẢN LÝ\"', '\"QUẢN LÝ VÀ SỬ DỤNG DỮ LIỆU TỪ THIẾT BỊ GIÁM SÁT HÀNH TRÌNH\"', '\"DỮ LIỆU GIÁM SÁT HÀNH TRÌNH\"', '\"HƯỚNG DẪN SỬ DỤNG, CẬP NHẬT, KHAI THÁC VÀ QUẢN LÝ HỆ THỐNG THÔNG TIN TỪ THIẾT BỊ GIÁM SÁT HÀNH TRÌNH\"', '\"DIRECTORATE FOR ROADS OF VIETNAM\"', '\"AGENCIES, ORGANIZATIONS AND INDIVIDUALS INVOLVED IN PROVISION, MANAGEMENT AND USE OF DATA FROM VEHICLE TRACKING DEVICES NATIONWIDE\"', '\"DỮ LIỆU TỪ THIẾT BỊ GIÁM SÁT HÀNH TRÌNH ĐƯỢC KHAI THÁC VÀ SỬ DỤNG\"', '\"HỆ THỐNG THÔNG TIN TỪ THIẾT BỊ GIÁM SÁT HÀNH TRÌNH ĐƯỢC SỬ DỤNG, CẬP NHẬT, KHAI THÁC VÀ QUẢN LÝ\"', '\"ĐƠN VỊ CUNG CẤP DỊCH VỤ GIÁM SÁT HÀNH TRÌNH\"']\n"
     ]
    },
    {
     "name": "stderr",
     "output_type": "stream",
     "text": [
      "INFO:nano-graphrag:Using 10 entites, 0 communities, 90 relations, 9 text units\n",
      " 84%|████████▍ | 42/50 [00:17<00:03,  2.35it/s]"
     ]
    },
    {
     "name": "stdout",
     "output_type": "stream",
     "text": [
      "Data has been written to output.json\n",
      "Directory 'tests/local_query' created.\n",
      "Nếu lái xe hoặc đơn vị kinh doanh vận tải vi phạm quy định về dữ liệu từ thiết bị giám sát hành trình, họ sẽ bị xử lý như thế nào?\n",
      "['\"SỐ LƯỢNG PHƯƠNG TIỆN VẬN TẢI THUỘC ĐỐI TƯỢNG PHẢI LẮP ĐẶT THIẾT BỊ GIÁM SÁT HÀNH TRÌNH\"', '\"DỮ LIỆU TỪ THIẾT BỊ GIÁM SÁT HÀNH TRÌNH ĐƯỢC SỬ DỤNG, CẬP NHẬT, KHAI THÁC VÀ QUẢN LÝ\"', '\"THIẾT BỊ GIÁM SÁT HÀNH TRÌNH\"', '\"DỮ LIỆU GIÁM SÁT HÀNH TRÌNH\"', '\"HỆ THỐNG THÔNG TIN TỪ THIẾT BỊ GIÁM SÁT HÀNH TRÌNH ĐƯỢC SỬ DỤNG, CẬP NHẬT, KHAI THÁC VÀ QUẢN LÝ\"', '\"HƯỚNG DẪN SỬ DỤNG, CẬP NHẬT, KHAI THÁC VÀ QUẢN LÝ HỆ THỐNG THÔNG TIN TỪ THIẾT BỊ GIÁM SÁT HÀNH TRÌNH\"', '\"ĐƠN VỊ CUNG CẤP DỊCH VỤ GIÁM SÁT HÀNH TRÌNH\"', '\"AGENCIES, ORGANIZATIONS AND INDIVIDUALS INVOLVED IN PROVISION, MANAGEMENT AND USE OF DATA FROM VEHICLE TRACKING DEVICES NATIONWIDE\"', '\"HỆ THỐNG THÔNG TIN TỪ THIẾT BỊ GIÁM SÁT HÀNH TRÌNH\"', '\"ARTICLE 2\"']\n"
     ]
    },
    {
     "name": "stderr",
     "output_type": "stream",
     "text": [
      "INFO:nano-graphrag:Using 10 entites, 0 communities, 20 relations, 13 text units\n",
      " 86%|████████▌ | 43/50 [00:17<00:02,  2.36it/s]"
     ]
    },
    {
     "name": "stdout",
     "output_type": "stream",
     "text": [
      "Data has been written to output.json\n",
      "Directory 'tests/local_query' created.\n",
      "Nếu Sở Giao thông vận tải không thực hiện đúng trách nhiệm của mình trong quản lý và sử dụng dữ liệu từ thiết bị giám sát hành trình, họ sẽ bị xử lý như thế nào?\n",
      "['\"DEPARTMENT OF TRANSPORT\"', '\"BỘ GIAO THÔNG VẬN TẢI\"', '\"DIRECTORATE FOR ROADS OF VIETNAM\"', '\"PROVINCIAL DEPARTMENTS OF TRANSPORT\"', '\"SỞ GIAO THÔNG VẬN TẢI\"', '\"SỐ LƯỢNG PHƯƠNG TIỆN VẬN TẢI THUỘC ĐỐI TƯỢNG PHẢI LẮP ĐẶT THIẾT BỊ GIÁM SÁT HÀNH TRÌNH\"', '\"DEPARTMENTS OF TRANSPORT\"', '\"TỔNG CỤC ĐƯỜNG BỘ VIỆT NAM\"', '\"THIẾT BỊ GIÁM SÁT HÀNH TRÌNH\"', '\"TRANSPORT DEPARTMENTS\"']\n"
     ]
    },
    {
     "name": "stderr",
     "output_type": "stream",
     "text": [
      "INFO:nano-graphrag:Using 10 entites, 0 communities, 117 relations, 10 text units\n",
      " 88%|████████▊ | 44/50 [00:18<00:02,  2.30it/s]"
     ]
    },
    {
     "name": "stdout",
     "output_type": "stream",
     "text": [
      "Data has been written to output.json\n",
      "Directory 'tests/local_query' created.\n",
      "Bộ Giao thông vận tải quy định Sở Giao thông vận tải phải làm gì để quản lý vận tải hiệu quả?\n",
      "['\"SỞ GIAO THÔNG VẬN TẢI\"', '\"SỞ GIAO THÔNG VẬN TẢI TRONG VIỆC CHẤP HÀNH CÁC QUY ĐỊNH VỀ QUẢN LÝ HOẠT ĐỘNG VẬN TẢI\"', '\"BỘ GIAO THÔNG VẬN TẢI\"', '\"DEPARTMENT OF TRANSPORT\"', '\"SỐ GIAO THÔNG VẬN TẢI\"', '\"DEPARTMENTS OF TRANSPORT\"', '\"MINISTRY OF TRANSPORT\"', '\"ĐƠN VỊ KINH DOANH VẬN TẢI TRONG VIỆC CHẤP HÀNH CÁC QUY ĐỊNH VỀ QUẢN LÝ HOẠT ĐỘNG VẬN TẢI\"', '\"ĐƠN VỊ KINH DOANH VẬN TẢI\"', '\"TRANSPORT BUSINESSES\"']\n"
     ]
    },
    {
     "name": "stderr",
     "output_type": "stream",
     "text": [
      "INFO:nano-graphrag:Using 10 entites, 0 communities, 75 relations, 11 text units\n",
      " 90%|█████████ | 45/50 [00:18<00:02,  2.34it/s]"
     ]
    },
    {
     "name": "stdout",
     "output_type": "stream",
     "text": [
      "Data has been written to output.json\n",
      "Directory 'tests/local_query' created.\n",
      "Dữ liệu từ thiết bị giám sát hành trình được sử dụng như thế nào trong công tác quản lý vận tải?\n",
      "['\"DỮ LIỆU TỪ THIẾT BỊ GIÁM SÁT HÀNH TRÌNH ĐƯỢC SỬ DỤNG, CẬP NHẬT, KHAI THÁC VÀ QUẢN LÝ\"', '\"QUẢN LÝ VÀ SỬ DỤNG DỮ LIỆU TỪ THIẾT BỊ GIÁM SÁT HÀNH TRÌNH\"', '\"DỮ LIỆU TỪ THIẾT BỊ GIÁM SÁT HÀNH TRÌNH ĐƯỢC KHAI THÁC VÀ SỬ DỤNG\"', '\"HỆ THỐNG THÔNG TIN TỪ THIẾT BỊ GIÁM SÁT HÀNH TRÌNH ĐƯỢC SỬ DỤNG, CẬP NHẬT, KHAI THÁC VÀ QUẢN LÝ\"', '\"DỮ LIỆU GIÁM SÁT HÀNH TRÌNH\"', '\"HƯỚNG DẪN SỬ DỤNG, CẬP NHẬT, KHAI THÁC VÀ QUẢN LÝ HỆ THỐNG THÔNG TIN TỪ THIẾT BỊ GIÁM SÁT HÀNH TRÌNH\"', '\"HỆ THỐNG THÔNG TIN TỪ THIẾT BỊ GIÁM SÁT HÀNH TRÌNH\"', '\"THIẾT BỊ GIÁM SÁT HÀNH TRÌNH\"', '\"DỮ LIỆU TỪ THIẾT BỊ GIÁM SÁT HÀNH TRÌNH\"', '\"SỐ LƯỢNG PHƯƠNG TIỆN VẬN TẢI THUỘC ĐỐI TƯỢNG PHẢI LẮP ĐẶT THIẾT BỊ GIÁM SÁT HÀNH TRÌNH\"']\n"
     ]
    },
    {
     "name": "stderr",
     "output_type": "stream",
     "text": [
      "INFO:nano-graphrag:Using 10 entites, 0 communities, 15 relations, 9 text units\n",
      " 92%|█████████▏| 46/50 [00:19<00:01,  2.39it/s]"
     ]
    },
    {
     "name": "stdout",
     "output_type": "stream",
     "text": [
      "Data has been written to output.json\n",
      "Directory 'tests/local_query' created.\n",
      "Sở Giao thông vận tải có trách nhiệm gì trong việc thanh tra, kiểm tra hoạt động vận tải?\n",
      "['\"SỞ GIAO THÔNG VẬN TẢI\"', '\"BỘ GIAO THÔNG VẬN TẢI\"', '\"DEPARTMENT OF TRANSPORT\"', '\"SỞ GIAO THÔNG VẬN TẢI TRONG VIỆC CHẤP HÀNH CÁC QUY ĐỊNH VỀ QUẢN LÝ HOẠT ĐỘNG VẬN TẢI\"', '\"SỐ GIAO THÔNG VẬN TẢI\"', '\"DEPARTMENTS OF TRANSPORT\"', '\"MINISTRY OF TRANSPORT\"', '\"PROVINCIAL DEPARTMENTS OF TRANSPORT\"', '\"TRANSPORT DEPARTMENTS\"', '\"DIRECTORATE FOR ROADS OF VIETNAM\"']\n"
     ]
    },
    {
     "name": "stderr",
     "output_type": "stream",
     "text": [
      "INFO:nano-graphrag:Using 10 entites, 0 communities, 126 relations, 10 text units\n",
      " 94%|█████████▍| 47/50 [00:19<00:01,  2.40it/s]"
     ]
    },
    {
     "name": "stdout",
     "output_type": "stream",
     "text": [
      "Data has been written to output.json\n",
      "Directory 'tests/local_query' created.\n",
      "Cách nào để đánh giá đơn vị kinh doanh vận tải tại địa phương trong việc chấp hành các quy định về quản lý vận tải?\n",
      "['\"ĐÁNH GIÁ CÁC ĐƠN VỊ KINH DOANH VẬN TẢI VÀ CÁC SỞ GIAO THÔNG VẬN TẢI\"', '\"ĐƠN VỊ KINH DOANH VẬN TẢI TRONG VIỆC CHẤP HÀNH CÁC QUY ĐỊNH VỀ QUẢN LÝ HOẠT ĐỘNG VẬN TẢI\"', '\"SỞ GIAO THÔNG VẬN TẢI TRONG VIỆC CHẤP HÀNH CÁC QUY ĐỊNH VỀ QUẢN LÝ HOẠT ĐỘNG VẬN TẢI\"', '\"ASSESSMENT OF COMPLIANCE WITH REGULATIONS\"', '\"ĐƠN VỊ KINH DOANH VẬN TẢI\"', '\"PROVINCIAL - LEVEL TRANSPORT DEPARTMENTS TO HANDLE VIOLATIONS\"', '\"CHẤP HÀNH CÁC QUY ĐỊNH VỀ QUẢN LÝ HOẠT ĐỘNG VẬN TẢI TRÊN PHẠM VI TOÀN QUỐC\"', '\"TRANSPORT BUSINESS UNITS UNDER LOCAL MANAGEMENT\"', '\"DEPARTMENT OF TRANSPORT\"', '\"TRÁCH NHIỆM ĐỐI VỚI ĐƠN VỊ KINH DOANH VẬN TẢI\"']\n"
     ]
    },
    {
     "name": "stderr",
     "output_type": "stream",
     "text": [
      "INFO:nano-graphrag:Using 10 entites, 0 communities, 45 relations, 11 text units\n",
      " 96%|█████████▌| 48/50 [00:19<00:00,  2.41it/s]"
     ]
    },
    {
     "name": "stdout",
     "output_type": "stream",
     "text": [
      "Data has been written to output.json\n",
      "Directory 'tests/local_query' created.\n",
      "Bộ Giao thông vận tải quy định như thế nào về trách nhiệm của các đơn vị kinh doanh vận tải trong việc cung cấp dữ liệu từ thiết bị giám sát hành trình?\n",
      "['\"TRANSPORT BUSINESSES\"', '\"BỘ GIAO THÔNG VẬN TẢI\"', '\"SỐ LƯỢNG PHƯƠNG TIỆN VẬN TẢI THUỘC ĐỐI TƯỢNG PHẢI LẮP ĐẶT THIẾT BỊ GIÁM SÁT HÀNH TRÌNH\"', '\"ĐƠN VỊ CUNG CẤP DỊCH VỤ GIÁM SÁT HÀNH TRÌNH\"', '\"DIRECTORATE FOR ROADS OF VIETNAM\"', '\"DEPARTMENT OF TRANSPORT\"', '\"ARTICLE 2\"', '\"TỔNG CỤC ĐƯỜNG BỘ VIỆT NAM\"', '\"SỞ GIAO THÔNG VẬN TẢI\"', '\"AGENCIES, ORGANIZATIONS AND INDIVIDUALS INVOLVED IN PROVISION, MANAGEMENT AND USE OF DATA FROM VEHICLE TRACKING DEVICES NATIONWIDE\"']\n"
     ]
    },
    {
     "name": "stderr",
     "output_type": "stream",
     "text": [
      "INFO:nano-graphrag:Using 10 entites, 0 communities, 117 relations, 11 text units\n",
      " 98%|█████████▊| 49/50 [00:20<00:00,  2.41it/s]"
     ]
    },
    {
     "name": "stdout",
     "output_type": "stream",
     "text": [
      "Data has been written to output.json\n",
      "Directory 'tests/local_query' created.\n",
      "Pháp luật quy định các đơn vị kinh doanh vận tải phải đảm bảo tính chính xác của dữ liệu như thế nào?\n",
      "['\"TRANSPORT BUSINESSES\"', '\"DEPARTMENT OF TRANSPORT\"', '\"ĐƠN VỊ KINH DOANH VẬN TẢI\"', '\"TRANSPORT SERVICE PROVIDERS\"', '\"ĐƠN VỊ KINH DOANH VẬN TẢI TRONG VIỆC CHẤP HÀNH CÁC QUY ĐỊNH VỀ QUẢN LÝ HOẠT ĐỘNG VẬN TẢI\"', '\"SỐ GIAO THÔNG VẬN TẢI\"', '\"ARTICLE 2\"', '\"PROVINCIAL DEPARTMENTS OF TRANSPORT\"', '\"TRANSPORT BUSINESS\"', '\"DIRECTORATE FOR ROADS OF VIETNAM\"']\n"
     ]
    },
    {
     "name": "stderr",
     "output_type": "stream",
     "text": [
      "INFO:nano-graphrag:Using 10 entites, 0 communities, 133 relations, 12 text units\n",
      "100%|██████████| 50/50 [00:20<00:00,  2.42it/s]"
     ]
    },
    {
     "name": "stdout",
     "output_type": "stream",
     "text": [
      "Data has been written to output.json\n"
     ]
    },
    {
     "name": "stderr",
     "output_type": "stream",
     "text": [
      "\n"
     ]
    }
   ],
   "source": [
    "# import nest_asyncio\n",
    "# nest_asyncio.apply()\n",
    "for query in tqdm(list_queries):\n",
    "    result = rag.query(query, param=QueryParam(mode=\"local\", top_k = 10))\n",
    "\n"
   ]
  },
  {
   "cell_type": "code",
   "execution_count": 10,
   "metadata": {},
   "outputs": [],
   "source": [
    "import json\n",
    "with open(\"/home/vulamanh/Documents/GRAPHRAG_DATN/src/tests/local_query/chosen_text_chunks.json\", \"r\") as f:\n",
    "    prediction = json.load(f)"
   ]
  },
  {
   "cell_type": "code",
   "execution_count": 28,
   "metadata": {},
   "outputs": [],
   "source": [
    "prediction_id = {}\n",
    "for k, v in prediction.items():\n",
    "    ids = []\n",
    "    for text_chunk in v:\n",
    "        ids.append(list_context.index(text_chunk[\"content\"]))\n",
    "    \n",
    "    prediction_id[k] = ids\n",
    "    "
   ]
  },
  {
   "cell_type": "code",
   "execution_count": null,
   "metadata": {},
   "outputs": [
    {
     "name": "stdout",
     "output_type": "stream",
     "text": [
      "Recall@10:0.34\n",
      "MRR@10:0.28735714285714287\n",
      "MAP@10:0.26281415343915343\n",
      "Average Score: 0.29672376543209883\n"
     ]
    }
   ],
   "source": [
    "# original \n",
    "from graphRAG.storage.chroma_db import average_four_metrics\n",
    "list_actual = list(true_pos.values())\n",
    "list_predicted = list(prediction_id.values())\n",
    "average_four_metrics(list_actual, list_predicted, k=10)"
   ]
  },
  {
   "cell_type": "code",
   "execution_count": null,
   "metadata": {},
   "outputs": [
    {
     "name": "stdout",
     "output_type": "stream",
     "text": [
      "Recall@10:0.335\n",
      "MRR@10:0.36923809523809525\n",
      "MAP@10:0.3198664021164021\n",
      "Average Score: 0.3413681657848325\n"
     ]
    }
   ],
   "source": [
    "# original - No order nodes\n",
    "from graphRAG.storage.chroma_db import average_four_metrics\n",
    "list_actual = list(true_pos.values())\n",
    "list_predicted = list(prediction_id.values())\n",
    "average_four_metrics(list_actual, list_predicted, k=10)"
   ]
  },
  {
   "cell_type": "code",
   "execution_count": null,
   "metadata": {},
   "outputs": [
    {
     "name": "stdout",
     "output_type": "stream",
     "text": [
      "Recall@10:0.44\n",
      "MRR@10:0.6946031746031746\n",
      "MAP@10:0.5247883597883598\n",
      "Average Score: 0.5531305114638448\n"
     ]
    }
   ],
   "source": [
    "# naive\n",
    "from graphRAG.storage.chroma_db import average_four_metrics\n",
    "list_actual = list(true_pos.values())\n",
    "list_predicted = list(prediction_id.values())\n",
    "average_four_metrics(list_actual, list_predicted, k=10)"
   ]
  },
  {
   "cell_type": "code",
   "execution_count": null,
   "metadata": {},
   "outputs": [
    {
     "name": "stdout",
     "output_type": "stream",
     "text": [
      "Recall@10:0.335\n",
      "MRR@10:0.2865793650793651\n",
      "MAP@10:0.2642757936507936\n",
      "Average Score: 0.29528505291005286\n"
     ]
    }
   ],
   "source": [
    "# order + edges vs query\n",
    "from graphRAG.storage.chroma_db import average_four_metrics\n",
    "list_actual = list(true_pos.values())\n",
    "list_predicted = list(prediction_id.values())\n",
    "average_four_metrics(list_actual, list_predicted, k=10)"
   ]
  },
  {
   "cell_type": "code",
   "execution_count": 15,
   "metadata": {},
   "outputs": [
    {
     "name": "stdout",
     "output_type": "stream",
     "text": [
      "Recall@10:0.335\n",
      "MRR@10:0.2699920634920635\n",
      "MAP@10:0.26080026455026456\n",
      "Average Score: 0.28859744268077603\n"
     ]
    }
   ],
   "source": [
    "# order + (edges vs query) * weight\n",
    "from graphRAG.storage.chroma_db import average_four_metrics\n",
    "list_actual = list(true_pos.values())\n",
    "list_predicted = list(prediction_id.values())\n",
    "average_four_metrics(list_actual, list_predicted, k=10)"
   ]
  },
  {
   "cell_type": "code",
   "execution_count": 12,
   "metadata": {},
   "outputs": [
    {
     "name": "stdout",
     "output_type": "stream",
     "text": [
      "Recall@10:0.325\n",
      "MRR@10:0.3295634920634921\n",
      "MAP@10:0.30296560846560844\n",
      "Average Score: 0.3191763668430336\n"
     ]
    }
   ],
   "source": [
    "# (edges vs query) * weight\n",
    "from graphRAG.storage.chroma_db import average_four_metrics\n",
    "list_actual = list(true_pos.values())\n",
    "list_predicted = list(prediction_id.values())\n",
    "average_four_metrics(list_actual, list_predicted, k=10)"
   ]
  },
  {
   "cell_type": "code",
   "execution_count": 29,
   "metadata": {},
   "outputs": [
    {
     "name": "stdout",
     "output_type": "stream",
     "text": [
      "Recall@10:0.345\n",
      "MRR@10:0.3626746031746032\n",
      "MAP@10:0.32100925925925927\n",
      "Average Score: 0.3428946208112875\n"
     ]
    }
   ],
   "source": [
    "# (edges vs query)\n",
    "from graphRAG.storage.chroma_db import average_four_metrics\n",
    "list_actual = list(true_pos.values())\n",
    "list_predicted = list(prediction_id.values())\n",
    "average_four_metrics(list_actual, list_predicted, k=10)"
   ]
  }
 ],
 "metadata": {
  "kernelspec": {
   "display_name": "graphrag_env",
   "language": "python",
   "name": "python3"
  },
  "language_info": {
   "codemirror_mode": {
    "name": "ipython",
    "version": 3
   },
   "file_extension": ".py",
   "mimetype": "text/x-python",
   "name": "python",
   "nbconvert_exporter": "python",
   "pygments_lexer": "ipython3",
   "version": "3.12.9"
  }
 },
 "nbformat": 4,
 "nbformat_minor": 2
}
